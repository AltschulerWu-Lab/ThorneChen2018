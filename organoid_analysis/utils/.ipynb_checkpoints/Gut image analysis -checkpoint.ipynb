{
 "cells": [
  {
   "cell_type": "code",
   "execution_count": 1,
   "metadata": {
    "collapsed": true
   },
   "outputs": [],
   "source": [
    "def make_placeholder(s):\n",
    "  '''Converts a string to placeholder format {{string}}'''\n",
    "\n",
    "  return '{{'+s+'}}'"
   ]
  },
  {
   "cell_type": "code",
   "execution_count": 11,
   "metadata": {
    "collapsed": true
   },
   "outputs": [],
   "source": [
    "def convert_placeholder_reps(reps):\n",
    "  \n",
    "  for old_key in list(reps.keys()):\n",
    "    new_key = make_placeholder(old_key)\n",
    "    reps[new_key] = str(reps.pop(old_key))\n",
    "\n",
    "  return reps\n"
   ]
  },
  {
   "cell_type": "code",
   "execution_count": 3,
   "metadata": {
    "collapsed": true
   },
   "outputs": [],
   "source": [
    "def gen_job_array(ids, num_jobs):\n",
    "  '''Given list of ids, generate list of starting and endign job numbers\n",
    "\n",
    "  Output: {start_ids: [], end_ids: []}\n",
    "  '''\n",
    "\n",
    "  num_per_job = math.ceil(len(ids) / num_jobs)"
   ]
  },
  {
   "cell_type": "code",
   "execution_count": 4,
   "metadata": {
    "collapsed": true
   },
   "outputs": [],
   "source": [
    "def multi_str_replace(text, reps):\n",
    "  ''' Makes multiple string substitutions\n",
    "\n",
    "  Keyword arguments:\n",
    "  text -- original string \n",
    "  reps -- dictionary where keys are old substrings and values are new substrings\n",
    "  '''\n",
    "\n",
    "  for old, new in reps.items():\n",
    "    text = text.replace(old, new)\n",
    "\n",
    "  return text\n"
   ]
  },
  {
   "cell_type": "code",
   "execution_count": 17,
   "metadata": {
    "collapsed": true
   },
   "outputs": [],
   "source": [
    "reps = {'sape': 4139, 'jack': 4098, 'guido': 412}\n"
   ]
  },
  {
   "cell_type": "code",
   "execution_count": 26,
   "metadata": {
    "collapsed": true
   },
   "outputs": [],
   "source": [
    "num_jobs = 3\n",
    "ids = range(10)"
   ]
  },
  {
   "cell_type": "code",
   "execution_count": 27,
   "metadata": {
    "collapsed": true
   },
   "outputs": [],
   "source": [
    "import math"
   ]
  },
  {
   "cell_type": "code",
   "execution_count": 28,
   "metadata": {
    "collapsed": true
   },
   "outputs": [],
   "source": [
    "num_per_job = math.ceil(len(ids) / num_jobs)"
   ]
  },
  {
   "cell_type": "code",
   "execution_count": 32,
   "metadata": {
    "collapsed": false
   },
   "outputs": [],
   "source": [
    "start_idx = list(range(0, len(ids), num_per_job))"
   ]
  },
  {
   "cell_type": "code",
   "execution_count": 35,
   "metadata": {
    "collapsed": false
   },
   "outputs": [
    {
     "data": {
      "text/plain": [
       "[0, 4, 8]"
      ]
     },
     "execution_count": 35,
     "metadata": {},
     "output_type": "execute_result"
    }
   ],
   "source": [
    "start_idx"
   ]
  },
  {
   "cell_type": "code",
   "execution_count": 36,
   "metadata": {
    "collapsed": false
   },
   "outputs": [
    {
     "data": {
      "text/plain": [
       "[5, 9, 13]"
      ]
     },
     "execution_count": 36,
     "metadata": {},
     "output_type": "execute_result"
    }
   ],
   "source": [
    "[x+num_per_job-1 for x in start_idx]"
   ]
  }
 ],
 "metadata": {
  "kernelspec": {
   "display_name": "Python 3",
   "language": "python",
   "name": "python3"
  },
  "language_info": {
   "codemirror_mode": {
    "name": "ipython",
    "version": 3
   },
   "file_extension": ".py",
   "mimetype": "text/x-python",
   "name": "python",
   "nbconvert_exporter": "python",
   "pygments_lexer": "ipython3",
   "version": "3.5.1"
  }
 },
 "nbformat": 4,
 "nbformat_minor": 0
}
