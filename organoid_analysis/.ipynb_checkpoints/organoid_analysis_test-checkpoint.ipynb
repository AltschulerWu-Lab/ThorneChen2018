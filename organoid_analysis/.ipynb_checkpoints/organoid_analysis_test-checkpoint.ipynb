{
 "cells": [
  {
   "cell_type": "code",
   "execution_count": 2,
   "metadata": {
    "collapsed": false
   },
   "outputs": [],
   "source": [
    "%matplotlib inline\n",
    "import matplotlib.pyplot as plt\n",
    "\n",
    "run_type = 'merged'\n",
    "exp = 'ct20b'"
   ]
  },
  {
   "cell_type": "code",
   "execution_count": 1,
   "metadata": {
    "collapsed": false
   },
   "outputs": [
    {
     "name": "stdout",
     "output_type": "stream",
     "text": [
      "bash /awlab/projects/2015_08_gut_organoid_analysis/organoid_analysis/scripts/20160616-214557_qsub_commands.txt\n"
     ]
    }
   ],
   "source": [
    "%run 1_setup_preseg_jobs"
   ]
  },
  {
   "cell_type": "code",
   "execution_count": 1,
   "metadata": {
    "collapsed": false
   },
   "outputs": [
    {
     "name": "stderr",
     "output_type": "stream",
     "text": [
      "/Users/ichen/Documents/bin/anaconda/lib/python3.5/site-packages/skimage/morphology/misc.py:122: UserWarning: Only one label was provided to `remove_small_objects`. Did you mean to use a boolean array?\n",
      "  warn(\"Only one label was provided to `remove_small_objects`. \"\n"
     ]
    },
    {
     "name": "stdout",
     "output_type": "stream",
     "text": [
      "Generated segmentation masks\n",
      "bash /awlab/projects/2015_08_gut_organoid_analysis/organoid_analysis/scripts/20160618-023756_qsub_commands.txt\n"
     ]
    }
   ],
   "source": [
    "%run 2_setup_mergedseg_jobs"
   ]
  },
  {
   "cell_type": "code",
   "execution_count": 1,
   "metadata": {
    "collapsed": false
   },
   "outputs": [
    {
     "name": "stderr",
     "output_type": "stream",
     "text": [
      "/Users/ichen/Documents/bin/anaconda/lib/python3.5/site-packages/numpy/core/_methods.py:59: RuntimeWarning: Mean of empty slice.\n",
      "  warnings.warn(\"Mean of empty slice.\", RuntimeWarning)\n"
     ]
    },
    {
     "name": "stdout",
     "output_type": "stream",
     "text": [
      "Measured crypt properties\n"
     ]
    }
   ],
   "source": [
    "%run 3_gen_crypt_masks"
   ]
  },
  {
   "cell_type": "code",
   "execution_count": 4,
   "metadata": {
    "collapsed": false
   },
   "outputs": [
    {
     "name": "stdout",
     "output_type": "stream",
     "text": [
      "bash /awlab/projects/2015_08_gut_organoid_analysis/organoid_analysis/scripts/20160721-104630_qsub_commands.txt\n"
     ]
    }
   ],
   "source": [
    "# Paneth counts\n",
    "import cluster\n",
    "bash_commands_path = cluster.setup_jobs('paneth')\n",
    "print('bash {path:s}'.format(path=bash_commands_path))"
   ]
  },
  {
   "cell_type": "code",
   "execution_count": 1,
   "metadata": {
    "collapsed": false
   },
   "outputs": [
    {
     "name": "stdout",
     "output_type": "stream",
     "text": [
      "ct25_72: All jobs complete!\n"
     ]
    }
   ],
   "source": [
    "import fileops\n",
    "\n",
    "# combine paneth job output\n",
    "fileops.combine_jobs('paneth')\n"
   ]
  },
  {
   "cell_type": "code",
   "execution_count": 1,
   "metadata": {
    "collapsed": false
   },
   "outputs": [],
   "source": [
    "import cryptops\n",
    "\n",
    "# well-matrices\n",
    "cryptops.measure_exps('paneth', 'paneth', drop=True)"
   ]
  }
 ],
 "metadata": {
  "kernelspec": {
   "display_name": "Python 3",
   "language": "python",
   "name": "python3"
  },
  "language_info": {
   "codemirror_mode": {
    "name": "ipython",
    "version": 3
   },
   "file_extension": ".py",
   "mimetype": "text/x-python",
   "name": "python",
   "nbconvert_exporter": "python",
   "pygments_lexer": "ipython3",
   "version": "3.5.1"
  }
 },
 "nbformat": 4,
 "nbformat_minor": 0
}
