{
 "cells": [
  {
   "cell_type": "code",
   "execution_count": 1,
   "metadata": {
    "collapsed": false,
    "scrolled": true
   },
   "outputs": [],
   "source": [
    "%matplotlib inline\n",
    "\n",
    "import matplotlib as mpl\n",
    "import matplotlib.colors as mcolors\n",
    "# mpl.rcParams['text.color'] = 'w'\n",
    "# mpl.rcParams['axes.labelcolor'] = 'w'\n",
    "# mpl.rcParams['xtick.color'] = 'w'\n",
    "# mpl.rcParams['ytick.color'] = 'w'\n",
    "mpl.rcParams['text.color'] = 'k'\n",
    "mpl.rcParams['axes.labelcolor'] = 'k'\n",
    "mpl.rcParams['xtick.color'] = 'k'\n",
    "mpl.rcParams['ytick.color'] = 'k'\n",
    "\n",
    "from collections import OrderedDict\n",
    "import datetime\n",
    "import matplotlib.pyplot as plt\n",
    "import numpy as np\n",
    "import os\n",
    "import pandas as pd\n",
    "import seaborn as sns\n",
    "\n",
    "from utils import constants, config"
   ]
  },
  {
   "cell_type": "code",
   "execution_count": 2,
   "metadata": {
    "code_folding": [],
    "collapsed": false,
    "scrolled": true
   },
   "outputs": [],
   "source": [
    "# Constants and paths\n",
    "# ================================\n",
    "\n",
    "fname_lookup={\n",
    "    'cell': 'num_cells_well_measure.csv',\n",
    "    'edu': 'num_edu_well_measure.csv',\n",
    "    'paneth': 'num_paneth_well_measure.csv',\n",
    "    'crypt_cell': 'num_crypt_cells_well_measure.csv',\n",
    "    'crypt_edu': 'num_crypt_edu_well_measure.csv',\n",
    "    'crypt_paneth': 'num_crypt_paneth_well_measure.csv',\n",
    "    'crypt': 'num_crypts_well_measure.csv',\n",
    "    'eccentricity': 'avg_eccentricity_well_measure.csv',\n",
    "    'solidity': 'avg_solidity_well_measure.csv',\n",
    "    'paneth_drop': 'num_paneth_drop_well_measure.csv',\n",
    "    'villus_cell': 'num_villus_cells_well_measure.csv',\n",
    "    'villus_edu': 'num_villus_edu_well_measure.csv',\n",
    "    'villus_paneth': 'num_villus_paneth_well_measure.csv',\n",
    "}\n",
    "\n",
    "outsvg_path = '/awlab/projects/2015_08_gut_organoid_analysis/analysis_output/{exp:s}/{imtype:s}.svg'\n",
    "outpng_path = '/awlab/projects/2015_08_gut_organoid_analysis/analysis_output/{exp:s}/{imtype:s}.png'\n",
    "outcsv_path = '/awlab/projects/2015_08_gut_organoid_analysis/analysis_output/{exp:s}/{fname:s}.csv'\n",
    "prefix_template = '/awlab/projects/2015_08_gut_organoid_analysis/processed_data/{exp:s}/{run_type:s}/combined'\n",
    "xlabs = constants.get_96_cols()\n",
    "ylabs = constants.get_96_rows()\n",
    "# bcolor = '#2A323F'\n",
    "bcolor = '#ffffff'\n",
    "\n",
    "saveims = True\n",
    "barplot_sz = (10.0, 7.0) \n",
    "heatmap_sz = (15.0, 10.0)\n",
    "fig_sz = (10, 7)\n",
    "\n",
    "# cropped matrices\n",
    "col_start = 2\n",
    "col_end = 11\n",
    "row_start = 0\n",
    "row_end = 7\n",
    "mat_rows = [0,2,3,4,5,6,7]\n",
    "mat_cols = [2, 3, 4, 5, 6, 7, 8, 9, 10]\n",
    "paneth_rows = [0,2,3,4,5,6]\n",
    "paneth_cols = [2, 3, 4, 5, 6, 7, 8, 9, 10]\n",
    "\n",
    "# dual heatmap center\n",
    "center_x = 0\n",
    "center_y = -1\n",
    "\n",
    "c = mcolors.ColorConverter().to_rgb\n",
    "\n",
    "# saveims = False\n",
    "# barplot_sz = (10.0, 6.0)\n",
    "# heatmap_sz = (6.0, 4.0)"
   ]
  },
  {
   "cell_type": "code",
   "execution_count": 3,
   "metadata": {
    "code_folding": [
     0
    ],
    "collapsed": true,
    "scrolled": true
   },
   "outputs": [],
   "source": [
    "def val_from_matrix(datapoint, path_template):\n",
    "    fpath = path_template.format(exp=datapoint['exp'])\n",
    "    row = constants.get_96_rows().index(datapoint['row'])\n",
    "    col = constants.get_96_cols().index(datapoint['col'])\n",
    "\n",
    "    dat = pd.read_csv(fpath, header=None).as_matrix()\n",
    "    return dat[row][col]"
   ]
  },
  {
   "cell_type": "code",
   "execution_count": 4,
   "metadata": {
    "code_folding": [
     0
    ],
    "collapsed": true,
    "scrolled": true
   },
   "outputs": [],
   "source": [
    "def df_from_matrix(datatray, path_template, label=None):\n",
    "    df = pd.DataFrame()\n",
    "    for d in datatray:\n",
    "        d['val'] = val_from_matrix(d, path_template)\n",
    "        if label:\n",
    "            d['label'] = label\n",
    "        df = df.append(d, ignore_index=True)\n",
    "    return df"
   ]
  },
  {
   "cell_type": "code",
   "execution_count": 5,
   "metadata": {
    "code_folding": [
     0
    ],
    "collapsed": true,
    "scrolled": true
   },
   "outputs": [],
   "source": [
    "def df_ratio_from_matrix(datatray, top_path, bottom_path, label=None):\n",
    "    df = pd.DataFrame()\n",
    "    for d in datatray:\n",
    "        top_val = val_from_matrix(d, top_path)\n",
    "        bottom_val = val_from_matrix(d, bottom_path)\n",
    "        d['val'] = top_val/bottom_val\n",
    "        if label:\n",
    "            d['label'] = label\n",
    "        df = df.append(d, ignore_index=True)\n",
    "    return df"
   ]
  },
  {
   "cell_type": "code",
   "execution_count": 6,
   "metadata": {
    "code_folding": [
     0
    ],
    "collapsed": true
   },
   "outputs": [],
   "source": [
    "def df_diff_from_matrix(datatray, top_path, bottom_path, label=None):\n",
    "    df = pd.DataFrame()\n",
    "    for d in datatray:\n",
    "        top_val = val_from_matrix(d, top_path)\n",
    "        bottom_val = val_from_matrix(d, bottom_path)\n",
    "        d['val'] = top_val - bottom_val\n",
    "        if label:\n",
    "            d['label'] = label\n",
    "        df = df.append(d, ignore_index=True)\n",
    "    return df"
   ]
  },
  {
   "cell_type": "code",
   "execution_count": 7,
   "metadata": {
    "code_folding": [
     0
    ],
    "collapsed": true
   },
   "outputs": [],
   "source": [
    "def make_colormap(seq):\n",
    "    \"\"\"Return a LinearSegmentedColormap\n",
    "    seq: a sequence of floats and RGB-tuples. The floats should be increasing\n",
    "    and in the interval (0,1).\n",
    "    \"\"\"\n",
    "    seq = [(None,) * 3, 0.0] + list(seq) + [1.0, (None,) * 3]\n",
    "    cdict = {'red': [], 'green': [], 'blue': []}\n",
    "    for i, item in enumerate(seq):\n",
    "        if isinstance(item, float):\n",
    "            r1, g1, b1 = seq[i - 1]\n",
    "            r2, g2, b2 = seq[i + 1]\n",
    "            cdict['red'].append([item, r1, r2])\n",
    "            cdict['green'].append([item, g1, g2])\n",
    "            cdict['blue'].append([item, b1, b2])\n",
    "    return mcolors.LinearSegmentedColormap('CustomMap', cdict)"
   ]
  },
  {
   "cell_type": "code",
   "execution_count": 8,
   "metadata": {
    "code_folding": [
     0
    ],
    "collapsed": false
   },
   "outputs": [],
   "source": [
    "def red_blue_colormap(levels):\n",
    "    x1, x2, x3, x4 = levels\n",
    "    palette = make_colormap([c('blue'), x1, c('blue'), c('white'), x2, c('white'), x3, c('white'), c('red'), x4, c('red')])\n",
    "    palette.set_bad('#2e2e2e', 1.0)\n",
    "    return palette\n",
    "    "
   ]
  },
  {
   "cell_type": "code",
   "execution_count": 9,
   "metadata": {
    "code_folding": [
     0
    ],
    "collapsed": true
   },
   "outputs": [],
   "source": [
    "def red_colormap(levels):\n",
    "    x1, x2 = levels\n",
    "    palette = make_colormap([c('red'), x1, c('red'), c('white'), x2, c('white')])\n",
    "    palette.set_bad('#2e2e2e', 1.0)\n",
    "    return palette\n",
    "    "
   ]
  },
  {
   "cell_type": "code",
   "execution_count": 10,
   "metadata": {
    "code_folding": [
     0
    ],
    "collapsed": true
   },
   "outputs": [],
   "source": [
    "def get_levels(center1, center2, max_val, min_val):\n",
    "    avg = np.mean([center1, center2])\n",
    "    diff = abs(center1-center2)\n",
    "    total = 2*max(abs(max_val - avg), abs(min_val - avg))\n",
    "    \n",
    "    control_bot = 0.5 - diff/(2*total)\n",
    "    control_top = 0.5 + diff/(2*total)\n",
    "    \n",
    "    fold_bot = 0.33*avg / total\n",
    "    fold_top = 1.5*avg / total\n",
    "    \n",
    "    return [fold_bot, control_bot, control_top, fold_top]"
   ]
  },
  {
   "cell_type": "code",
   "execution_count": 11,
   "metadata": {
    "code_folding": [
     0
    ],
    "collapsed": true
   },
   "outputs": [],
   "source": [
    "def get_vmax(center1, center2, max_val, min_val):\n",
    "    avg = np.mean([center1, center2])\n",
    "    vmax = avg + max(abs(max_val - avg), abs(min_val - avg))\n",
    "    \n",
    "    if vmax < (1.5*avg):\n",
    "        vmax = 1.5*avg\n",
    "    \n",
    "    return vmax"
   ]
  },
  {
   "cell_type": "code",
   "execution_count": 12,
   "metadata": {
    "code_folding": [
     0
    ],
    "collapsed": false,
    "scrolled": true
   },
   "outputs": [],
   "source": [
    "# Set up paper plots constants\n",
    "prefix = '/awlab/projects/2015_08_gut_organoid_analysis/processed_data/{{exp:s}}/{run_type:s}/combined/well_measure/{fname:s}'\n",
    "\n",
    "fig2_line_palette = ['#000000', '#002080', '#ff9999']\n",
    "line_palette = ['#000000', '#339933', '#339933', '#cc0000', '#cc0000']\n",
    "line_style = ['-', '-', '--', '-', '--']\n",
    "bar_palette = 'black'\n",
    "heatmap_monocolor = plt.cm.Reds_r #'YlOrRd_r' seismic\n",
    "# heatmap_palette.set_bad('#2e2e2e', 1.0)"
   ]
  },
  {
   "cell_type": "code",
   "execution_count": 13,
   "metadata": {
    "code_folding": [
     0,
     2,
     24,
     120,
     151,
     182,
     283,
     396
    ],
    "collapsed": true
   },
   "outputs": [],
   "source": [
    "# Set up paper plots datatrays\n",
    "\n",
    "fig2_bar_datatray = [\n",
    "    dict(exp='ct25_0', row='B', col=3, name='0'),\n",
    "    dict(exp='ct25_0', row='B', col=4, name='0'),\n",
    "    dict(exp='ct25_0', row='C', col=3, name='0'),\n",
    "    dict(exp='ct25_0', row='C', col=4, name='0'),\n",
    "\n",
    "    dict(exp='ct25_24', row='A', col=1, name='24'),\n",
    "    dict(exp='ct25_24', row='A', col=2, name='24'),\n",
    "    dict(exp='ct25_24', row='B', col=1, name='24'),\n",
    "    dict(exp='ct25_24', row='B', col=2, name='24'),\n",
    "\n",
    "    dict(exp='ct25_48', row='A', col=1, name='48'),\n",
    "    dict(exp='ct25_48', row='A', col=2, name='48'),\n",
    "    dict(exp='ct25_48', row='B', col=1, name='48'),\n",
    "    dict(exp='ct25_48', row='B', col=2, name='48'),\n",
    "\n",
    "    dict(exp='ct25_72', row='A', col=1, name='72'),\n",
    "    dict(exp='ct25_72', row='A', col=2, name='72'),\n",
    "    dict(exp='ct25_72', row='B', col=1, name='72'),\n",
    "    dict(exp='ct25_72', row='B', col=2, name='72')\n",
    "    ]\n",
    "\n",
    "fig4_line_datatray = [\n",
    "    dict(exp='ct25_0', row='B', col=3, time='0', name='Control'),\n",
    "    dict(exp='ct25_0', row='B', col=4, time='0', name='Control'),\n",
    "    dict(exp='ct25_0', row='C', col=3, time='0', name='Control'),\n",
    "    dict(exp='ct25_0', row='C', col=4, time='0', name='Control'),\n",
    "\n",
    "    dict(exp='ct25_24', row='A', col=1, time='24', name='Control'),\n",
    "    dict(exp='ct25_24', row='A', col=2, time='24', name='Control'),\n",
    "    dict(exp='ct25_24', row='B', col=1, time='24', name='Control'),\n",
    "    dict(exp='ct25_24', row='B', col=2, time='24', name='Control'),\n",
    "\n",
    "    dict(exp='ct25_48', row='A', col=1, time='48', name='Control'),\n",
    "    dict(exp='ct25_48', row='A', col=2, time='48', name='Control'),\n",
    "    dict(exp='ct25_48', row='B', col=1, time='48', name='Control'),\n",
    "    dict(exp='ct25_48', row='B', col=2, time='48', name='Control'),\n",
    "\n",
    "    dict(exp='ct25_72', row='A', col=1, time='72', name='Control'),\n",
    "    dict(exp='ct25_72', row='A', col=2, time='72', name='Control'),\n",
    "    dict(exp='ct25_72', row='B', col=1, time='72', name='Control'),\n",
    "    dict(exp='ct25_72', row='B', col=2, time='72', name='Control'),\n",
    "    \n",
    "    dict(exp='ct25_0', row='D', col=3, time='0', name='WNT3a'),\n",
    "    dict(exp='ct25_0', row='D', col=4, time='0', name='WNT3a'),\n",
    "    dict(exp='ct25_0', row='E', col=3, time='0', name='WNT3a'),\n",
    "    dict(exp='ct25_0', row='E', col=4, time='0', name='WNT3a'),\n",
    "\n",
    "    dict(exp='ct25_24', row='A', col=5, time='24', name='WNT3a'),\n",
    "    dict(exp='ct25_24', row='B', col=5, time='24', name='WNT3a'),\n",
    "\n",
    "    dict(exp='ct25_48', row='A', col=5, time='48', name='WNT3a'),\n",
    "    dict(exp='ct25_48', row='B', col=5, time='48', name='WNT3a'),\n",
    "\n",
    "    dict(exp='ct25_72', row='A', col=5, time='72', name='WNT3a'),\n",
    "    dict(exp='ct25_72', row='B', col=5, time='72', name='WNT3a'),\n",
    "    \n",
    "    dict(exp='ct25_0', row='F', col=3, time='0', name='IWP-2'),\n",
    "    dict(exp='ct25_0', row='F', col=4, time='0', name='IWP-2'),\n",
    "    dict(exp='ct25_0', row='G', col=3, time='0', name='IWP-2'),\n",
    "    dict(exp='ct25_0', row='G', col=4, time='0', name='IWP-2'),\n",
    "\n",
    "    dict(exp='ct25_24', row='C', col=1, time='24', name='IWP-2'),\n",
    "    dict(exp='ct25_24', row='C', col=2, time='24', name='IWP-2'),\n",
    "    dict(exp='ct25_24', row='D', col=1, time='24', name='IWP-2'),\n",
    "    dict(exp='ct25_24', row='D', col=2, time='24', name='IWP-2'),\n",
    "\n",
    "    dict(exp='ct25_48', row='C', col=1, time='48', name='IWP-2'),\n",
    "    dict(exp='ct25_48', row='C', col=2, time='48', name='IWP-2'),\n",
    "    dict(exp='ct25_48', row='D', col=1, time='48', name='IWP-2'),\n",
    "    dict(exp='ct25_48', row='D', col=2, time='48', name='IWP-2'),\n",
    "\n",
    "    dict(exp='ct25_72', row='C', col=1, time='72', name='IWP-2'),\n",
    "    dict(exp='ct25_72', row='C', col=2, time='72', name='IWP-2'),\n",
    "    dict(exp='ct25_72', row='D', col=1, time='72', name='IWP-2'),\n",
    "    dict(exp='ct25_72', row='D', col=2, time='72', name='IWP-2'),\n",
    "    \n",
    "    dict(exp='ct25_0', row='B', col=5, time='0', name='BMP4'),\n",
    "    dict(exp='ct25_0', row='B', col=6, time='0', name='BMP4'),\n",
    "    dict(exp='ct25_0', row='C', col=5, time='0', name='BMP4'),\n",
    "    dict(exp='ct25_0', row='C', col=6, time='0', name='BMP4'),\n",
    "\n",
    "    dict(exp='ct25_24', row='E', col=1, time='24', name='BMP4'),\n",
    "    dict(exp='ct25_24', row='E', col=2, time='24', name='BMP4'),\n",
    "    dict(exp='ct25_24', row='F', col=1, time='24', name='BMP4'),\n",
    "    dict(exp='ct25_24', row='F', col=2, time='24', name='BMP4'),\n",
    "\n",
    "    dict(exp='ct25_48', row='E', col=1, time='48', name='BMP4'),\n",
    "    dict(exp='ct25_48', row='E', col=2, time='48', name='BMP4'),\n",
    "    dict(exp='ct25_48', row='F', col=1, time='48', name='BMP4'),\n",
    "    dict(exp='ct25_48', row='F', col=2, time='48', name='BMP4'),\n",
    "\n",
    "    dict(exp='ct25_72', row='E', col=1, time='72', name='BMP4'),\n",
    "    dict(exp='ct25_72', row='E', col=2, time='72', name='BMP4'),\n",
    "    dict(exp='ct25_72', row='F', col=1, time='72', name='BMP4'),\n",
    "    dict(exp='ct25_72', row='F', col=2, time='72', name='BMP4'),\n",
    "    \n",
    "    dict(exp='ct25_0', row='D', col=5, time='0', name='LDN'),\n",
    "    dict(exp='ct25_0', row='D', col=6, time='0', name='LDN'),\n",
    "    dict(exp='ct25_0', row='E', col=6, time='0', name='LDN'),\n",
    "    dict(exp='ct25_0', row='F', col=6, time='0', name='LDN'),\n",
    "\n",
    "    dict(exp='ct25_24', row='G', col=1, time='24', name='LDN'),\n",
    "    dict(exp='ct25_24', row='G', col=2, time='24', name='LDN'),\n",
    "    dict(exp='ct25_24', row='H', col=1, time='24', name='LDN'),\n",
    "    dict(exp='ct25_24', row='H', col=2, time='24', name='LDN'),\n",
    "\n",
    "    dict(exp='ct25_48', row='G', col=1, time='48', name='LDN'),\n",
    "    dict(exp='ct25_48', row='G', col=2, time='48', name='LDN'),\n",
    "    dict(exp='ct25_48', row='H', col=1, time='48', name='LDN'),\n",
    "    dict(exp='ct25_48', row='H', col=2, time='48', name='LDN'),\n",
    "\n",
    "    dict(exp='ct25_72', row='G', col=1, time='72', name='LDN'),\n",
    "    dict(exp='ct25_72', row='G', col=2, time='72', name='LDN'),\n",
    "    dict(exp='ct25_72', row='H', col=1, time='72', name='LDN'),\n",
    "    dict(exp='ct25_72', row='H', col=2, time='72', name='LDN')\n",
    "    ]\n",
    "\n",
    "fig4_bar_72h_datatray = [\n",
    "    dict(exp='ct25_72', row='A', col=1, time='72', name='Control'),\n",
    "    dict(exp='ct25_72', row='A', col=2, time='72', name='Control'),\n",
    "    dict(exp='ct25_72', row='B', col=1, time='72', name='Control'),\n",
    "    dict(exp='ct25_72', row='B', col=2, time='72', name='Control'),\n",
    " \n",
    "    dict(exp='ct25_72', row='A', col=5, time='72', name='WNT3a'),\n",
    "    dict(exp='ct25_72', row='B', col=5, time='72', name='WNT3a'),\n",
    "\n",
    "    dict(exp='ct25_72', row='C', col=1, time='72', name='IWP-2'),\n",
    "    dict(exp='ct25_72', row='C', col=2, time='72', name='IWP-2'),\n",
    "    dict(exp='ct25_72', row='D', col=1, time='72', name='IWP-2'),\n",
    "    dict(exp='ct25_72', row='D', col=2, time='72', name='IWP-2'),\n",
    "    \n",
    "    dict(exp='ct25_48', row='C', col=3, time='48', name='IWP-2 + loWNT3a'),\n",
    "    dict(exp='ct25_48', row='C', col=4, time='48', name='IWP-2 + loWNT3a'),\n",
    "    dict(exp='ct25_48', row='D', col=3, time='48', name='IWP-2 + loWNT3a'),\n",
    "    dict(exp='ct25_48', row='D', col=4, time='48', name='IWP-2 + loWNT3a'),\n",
    "    \n",
    "    dict(exp='ct25_72', row='C', col=5, time='72', name='IWP-2 + WNT3a'),\n",
    "    dict(exp='ct25_72', row='D', col=5, time='72', name='IWP-2 + WNT3a'),\n",
    "\n",
    "    dict(exp='ct25_72', row='G', col=1, time='72', name='LDN'),\n",
    "    dict(exp='ct25_72', row='G', col=2, time='72', name='LDN'),\n",
    "    dict(exp='ct25_72', row='H', col=1, time='72', name='LDN'),\n",
    "    dict(exp='ct25_72', row='H', col=2, time='72', name='LDN'),\n",
    "    \n",
    "    dict(exp='ct25_72', row='G', col=5, time='72', name='LDN + WNT3a'),\n",
    "    dict(exp='ct25_72', row='H', col=5, time='72', name='LDN + WNT3a')\n",
    "    ]\n",
    "\n",
    "fig4_bar_48h_datatray = [\n",
    "    dict(exp='ct25_48', row='A', col=1, time='48', name='Control'),\n",
    "    dict(exp='ct25_48', row='A', col=2, time='48', name='Control'),\n",
    "    dict(exp='ct25_48', row='B', col=1, time='48', name='Control'),\n",
    "    dict(exp='ct25_48', row='B', col=2, time='48', name='Control'),\n",
    " \n",
    "    dict(exp='ct25_48', row='A', col=5, time='48', name='WNT3a'),\n",
    "    dict(exp='ct25_48', row='B', col=5, time='48', name='WNT3a'),\n",
    "\n",
    "    dict(exp='ct25_48', row='C', col=1, time='48', name='IWP-2'),\n",
    "    dict(exp='ct25_48', row='C', col=2, time='48', name='IWP-2'),\n",
    "    dict(exp='ct25_48', row='D', col=1, time='48', name='IWP-2'),\n",
    "    dict(exp='ct25_48', row='D', col=2, time='48', name='IWP-2'),\n",
    "    \n",
    "    dict(exp='ct25_48', row='C', col=3, time='48', name='IWP-2 + loWNT3a'),\n",
    "    dict(exp='ct25_48', row='C', col=4, time='48', name='IWP-2 + loWNT3a'),\n",
    "    dict(exp='ct25_48', row='D', col=3, time='48', name='IWP-2 + loWNT3a'),\n",
    "    dict(exp='ct25_48', row='D', col=4, time='48', name='IWP-2 + loWNT3a'),\n",
    "    \n",
    "    dict(exp='ct25_48', row='C', col=5, time='48', name='IWP-2 + WNT3a'),\n",
    "    dict(exp='ct25_48', row='D', col=5, time='48', name='IWP-2 + WNT3a'),\n",
    "\n",
    "    dict(exp='ct25_48', row='G', col=1, time='48', name='LDN'),\n",
    "    dict(exp='ct25_48', row='G', col=2, time='48', name='LDN'),\n",
    "    dict(exp='ct25_48', row='H', col=1, time='48', name='LDN'),\n",
    "    dict(exp='ct25_48', row='H', col=2, time='48', name='LDN'),\n",
    "    \n",
    "    dict(exp='ct25_48', row='G', col=5, time='48', name='LDN + WNT3a'),\n",
    "    dict(exp='ct25_48', row='H', col=5, time='48', name='LDN + WNT3a')\n",
    "    ]\n",
    "\n",
    "fig4_bar_datatray = [\n",
    "    \n",
    "    dict(exp='ct25_0', row='B', col=3, time='0', name='Control'),\n",
    "    dict(exp='ct25_0', row='B', col=4, time='0', name='Control'),\n",
    "    dict(exp='ct25_0', row='C', col=3, time='0', name='Control'),\n",
    "    dict(exp='ct25_0', row='C', col=4, time='0', name='Control'),\n",
    " \n",
    "    dict(exp='ct25_0', row='D', col=3, time='0', name='WNT3a'),\n",
    "    dict(exp='ct25_0', row='D', col=4, time='0', name='WNT3a'),\n",
    "    dict(exp='ct25_0', row='E', col=3, time='0', name='WNT3a'),\n",
    "    dict(exp='ct25_0', row='E', col=4, time='0', name='WNT3a'),\n",
    "\n",
    "    dict(exp='ct25_0', row='F', col=3, time='0', name='IWP-2'),\n",
    "    dict(exp='ct25_0', row='F', col=4, time='0', name='IWP-2'),\n",
    "    dict(exp='ct25_0', row='G', col=3, time='0', name='IWP-2'),\n",
    "    dict(exp='ct25_0', row='G', col=4, time='0', name='IWP-2'),\n",
    "    \n",
    "    dict(exp='ct25_0', row='B', col=5, time='0', name='IWP-2 + WNT3a'),\n",
    "    dict(exp='ct25_0', row='B', col=6, time='0', name='IWP-2 + WNT3a'),\n",
    "\n",
    "    dict(exp='ct25_0', row='D', col=5, time='0', name='LDN'),\n",
    "    dict(exp='ct25_0', row='D', col=6, time='0', name='LDN'),\n",
    "    dict(exp='ct25_0', row='E', col=6, time='0', name='LDN'),\n",
    "    dict(exp='ct25_0', row='F', col=6, time='0', name='LDN'),\n",
    "    \n",
    "    dict(exp='ct25_0', row='G', col=6, time='0', name='LDN + WNT3a'),\n",
    "    dict(exp='ct25_0', row='G', col=6, time='0', name='LDN + WNT3a'),\n",
    "    \n",
    "    dict(exp='ct25_24', row='A', col=1, time='24', name='Control'),\n",
    "    dict(exp='ct25_24', row='A', col=2, time='24', name='Control'),\n",
    "    dict(exp='ct25_24', row='B', col=1, time='24', name='Control'),\n",
    "    dict(exp='ct25_24', row='B', col=2, time='24', name='Control'),\n",
    " \n",
    "    dict(exp='ct25_24', row='A', col=5, time='24', name='WNT3a'),\n",
    "    dict(exp='ct25_24', row='B', col=5, time='24', name='WNT3a'),\n",
    "\n",
    "    dict(exp='ct25_24', row='C', col=1, time='24', name='IWP-2'),\n",
    "    dict(exp='ct25_24', row='C', col=2, time='24', name='IWP-2'),\n",
    "    dict(exp='ct25_24', row='D', col=1, time='24', name='IWP-2'),\n",
    "    dict(exp='ct25_24', row='D', col=2, time='24', name='IWP-2'),\n",
    "    \n",
    "    dict(exp='ct25_24', row='C', col=5, time='24', name='IWP-2 + WNT3a'),\n",
    "    dict(exp='ct25_24', row='D', col=5, time='24', name='IWP-2 + WNT3a'),\n",
    "\n",
    "    dict(exp='ct25_24', row='G', col=1, time='24', name='LDN'),\n",
    "    dict(exp='ct25_24', row='G', col=2, time='24', name='LDN'),\n",
    "    dict(exp='ct25_24', row='H', col=1, time='24', name='LDN'),\n",
    "    dict(exp='ct25_24', row='H', col=2, time='24', name='LDN'),\n",
    "    \n",
    "    dict(exp='ct25_24', row='G', col=5, time='24', name='LDN + WNT3a'),\n",
    "    dict(exp='ct25_24', row='H', col=5, time='24', name='LDN + WNT3a'),\n",
    "    \n",
    "    dict(exp='ct25_48', row='A', col=1, time='48', name='Control'),\n",
    "    dict(exp='ct25_48', row='A', col=2, time='48', name='Control'),\n",
    "    dict(exp='ct25_48', row='B', col=1, time='48', name='Control'),\n",
    "    dict(exp='ct25_48', row='B', col=2, time='48', name='Control'),\n",
    " \n",
    "    dict(exp='ct25_48', row='A', col=5, time='48', name='WNT3a'),\n",
    "    dict(exp='ct25_48', row='B', col=5, time='48', name='WNT3a'),\n",
    "\n",
    "    dict(exp='ct25_48', row='C', col=1, time='48', name='IWP-2'),\n",
    "    dict(exp='ct25_48', row='C', col=2, time='48', name='IWP-2'),\n",
    "    dict(exp='ct25_48', row='D', col=1, time='48', name='IWP-2'),\n",
    "    dict(exp='ct25_48', row='D', col=2, time='48', name='IWP-2'),\n",
    "    \n",
    "    dict(exp='ct25_48', row='C', col=5, time='48', name='IWP-2 + WNT3a'),\n",
    "    dict(exp='ct25_48', row='D', col=5, time='48', name='IWP-2 + WNT3a'),\n",
    "\n",
    "    dict(exp='ct25_48', row='G', col=1, time='48', name='LDN'),\n",
    "    dict(exp='ct25_48', row='G', col=2, time='48', name='LDN'),\n",
    "    dict(exp='ct25_48', row='H', col=1, time='48', name='LDN'),\n",
    "    dict(exp='ct25_48', row='H', col=2, time='48', name='LDN'),\n",
    "    \n",
    "    dict(exp='ct25_48', row='G', col=5, time='48', name='LDN + WNT3a'),\n",
    "    dict(exp='ct25_48', row='H', col=5, time='48', name='LDN + WNT3a'),\n",
    "    \n",
    "    dict(exp='ct25_72', row='A', col=1, time='72', name='Control'),\n",
    "    dict(exp='ct25_72', row='A', col=2, time='72', name='Control'),\n",
    "    dict(exp='ct25_72', row='B', col=1, time='72', name='Control'),\n",
    "    dict(exp='ct25_72', row='B', col=2, time='72', name='Control'),\n",
    " \n",
    "    dict(exp='ct25_72', row='A', col=5, time='72', name='WNT3a'),\n",
    "    dict(exp='ct25_72', row='B', col=5, time='72', name='WNT3a'),\n",
    "\n",
    "    dict(exp='ct25_72', row='C', col=1, time='72', name='IWP-2'),\n",
    "    dict(exp='ct25_72', row='C', col=2, time='72', name='IWP-2'),\n",
    "    dict(exp='ct25_72', row='D', col=1, time='72', name='IWP-2'),\n",
    "    dict(exp='ct25_72', row='D', col=2, time='72', name='IWP-2'),\n",
    "    \n",
    "    dict(exp='ct25_72', row='C', col=5, time='72', name='IWP-2 + WNT3a'),\n",
    "    dict(exp='ct25_72', row='D', col=5, time='72', name='IWP-2 + WNT3a'),\n",
    "\n",
    "    dict(exp='ct25_72', row='G', col=1, time='72', name='LDN'),\n",
    "    dict(exp='ct25_72', row='G', col=2, time='72', name='LDN'),\n",
    "    dict(exp='ct25_72', row='H', col=1, time='72', name='LDN'),\n",
    "    dict(exp='ct25_72', row='H', col=2, time='72', name='LDN'),\n",
    "    \n",
    "    dict(exp='ct25_72', row='G', col=5, time='72', name='LDN + WNT3a'),\n",
    "    dict(exp='ct25_72', row='H', col=5, time='72', name='LDN + WNT3a')\n",
    "    ]\n",
    "\n",
    "fig5_wholetimeseries_datatray = [\n",
    "    \n",
    "    dict(exp='ct25_0', row='B', col=3, time='0', name='Control'),\n",
    "    dict(exp='ct25_0', row='B', col=4, time='0', name='Control'),\n",
    "    dict(exp='ct25_0', row='C', col=3, time='0', name='Control'),\n",
    "    dict(exp='ct25_0', row='C', col=4, time='0', name='Control'),\n",
    " \n",
    "    dict(exp='ct25_0', row='D', col=3, time='0', name='WNT3a'),\n",
    "    dict(exp='ct25_0', row='D', col=4, time='0', name='WNT3a'),\n",
    "    dict(exp='ct25_0', row='E', col=3, time='0', name='WNT3a'),\n",
    "    dict(exp='ct25_0', row='E', col=4, time='0', name='WNT3a'),\n",
    "\n",
    "    dict(exp='ct25_0', row='F', col=3, time='0', name='IWP-2'),\n",
    "    dict(exp='ct25_0', row='F', col=4, time='0', name='IWP-2'),\n",
    "    dict(exp='ct25_0', row='G', col=3, time='0', name='IWP-2'),\n",
    "    dict(exp='ct25_0', row='G', col=4, time='0', name='IWP-2'),\n",
    "    \n",
    "    dict(exp='ct25_0', row='B', col=5, time='0', name='IWP-2 + WNT3a'),\n",
    "    dict(exp='ct25_0', row='B', col=6, time='0', name='IWP-2 + WNT3a'),\n",
    "    \n",
    "    dict(exp='ct25_0', row='C', col=5, time='0', name='BMP4 + WNT3a'),\n",
    "    dict(exp='ct25_0', row='C', col=6, time='0', name='BMP4 + WNT3a'),\n",
    "\n",
    "    dict(exp='ct25_0', row='D', col=5, time='0', name='LDN'),\n",
    "    dict(exp='ct25_0', row='D', col=6, time='0', name='LDN'),\n",
    "    dict(exp='ct25_0', row='E', col=6, time='0', name='LDN'),\n",
    "    dict(exp='ct25_0', row='F', col=6, time='0', name='LDN'),\n",
    "    \n",
    "    dict(exp='ct25_0', row='G', col=6, time='0', name='LDN + WNT3a'),\n",
    "    dict(exp='ct25_0', row='G', col=6, time='0', name='LDN + WNT3a'),\n",
    "    \n",
    "    dict(exp='ct25_24', row='A', col=1, time='24', name='Control'),\n",
    "    dict(exp='ct25_24', row='A', col=2, time='24', name='Control'),\n",
    "    dict(exp='ct25_24', row='B', col=1, time='24', name='Control'),\n",
    "    dict(exp='ct25_24', row='B', col=2, time='24', name='Control'),\n",
    " \n",
    "    dict(exp='ct25_24', row='A', col=5, time='24', name='WNT3a'),\n",
    "    dict(exp='ct25_24', row='B', col=5, time='24', name='WNT3a'),\n",
    "\n",
    "    dict(exp='ct25_24', row='C', col=1, time='24', name='IWP-2'),\n",
    "    dict(exp='ct25_24', row='C', col=2, time='24', name='IWP-2'),\n",
    "    dict(exp='ct25_24', row='D', col=1, time='24', name='IWP-2'),\n",
    "    dict(exp='ct25_24', row='D', col=2, time='24', name='IWP-2'),\n",
    "    \n",
    "    dict(exp='ct25_24', row='C', col=5, time='24', name='IWP-2 + WNT3a'),\n",
    "    dict(exp='ct25_24', row='D', col=5, time='24', name='IWP-2 + WNT3a'),\n",
    "    \n",
    "    dict(exp='ct25_24', row='E', col=5, time='24', name='BMP4 + WNT3a'),\n",
    "    dict(exp='ct25_24', row='F', col=5, time='24', name='BMP4 + WNT3a'),\n",
    "\n",
    "    dict(exp='ct25_24', row='G', col=1, time='24', name='LDN'),\n",
    "    dict(exp='ct25_24', row='G', col=2, time='24', name='LDN'),\n",
    "    dict(exp='ct25_24', row='H', col=1, time='24', name='LDN'),\n",
    "    dict(exp='ct25_24', row='H', col=2, time='24', name='LDN'),\n",
    "    \n",
    "    dict(exp='ct25_24', row='G', col=5, time='24', name='LDN + WNT3a'),\n",
    "    dict(exp='ct25_24', row='H', col=5, time='24', name='LDN + WNT3a'),\n",
    "    \n",
    "    dict(exp='ct25_48', row='A', col=1, time='48', name='Control'),\n",
    "    dict(exp='ct25_48', row='A', col=2, time='48', name='Control'),\n",
    "    dict(exp='ct25_48', row='B', col=1, time='48', name='Control'),\n",
    "    dict(exp='ct25_48', row='B', col=2, time='48', name='Control'),\n",
    " \n",
    "    dict(exp='ct25_48', row='A', col=5, time='48', name='WNT3a'),\n",
    "    dict(exp='ct25_48', row='B', col=5, time='48', name='WNT3a'),\n",
    "\n",
    "    dict(exp='ct25_48', row='C', col=1, time='48', name='IWP-2'),\n",
    "    dict(exp='ct25_48', row='C', col=2, time='48', name='IWP-2'),\n",
    "    dict(exp='ct25_48', row='D', col=1, time='48', name='IWP-2'),\n",
    "    dict(exp='ct25_48', row='D', col=2, time='48', name='IWP-2'),\n",
    "    \n",
    "    dict(exp='ct25_48', row='C', col=5, time='48', name='IWP-2 + WNT3a'),\n",
    "    dict(exp='ct25_48', row='D', col=5, time='48', name='IWP-2 + WNT3a'),\n",
    "\n",
    "    dict(exp='ct25_48', row='E', col=5, time='48', name='BMP4 + WNT3a'),\n",
    "    dict(exp='ct25_48', row='F', col=5, time='48', name='BMP4 + WNT3a'),\n",
    "    \n",
    "    dict(exp='ct25_48', row='G', col=1, time='48', name='LDN'),\n",
    "    dict(exp='ct25_48', row='G', col=2, time='48', name='LDN'),\n",
    "    dict(exp='ct25_48', row='H', col=1, time='48', name='LDN'),\n",
    "    dict(exp='ct25_48', row='H', col=2, time='48', name='LDN'),\n",
    "    \n",
    "    dict(exp='ct25_48', row='G', col=5, time='48', name='LDN + WNT3a'),\n",
    "    dict(exp='ct25_48', row='H', col=5, time='48', name='LDN + WNT3a'),\n",
    "    \n",
    "    dict(exp='ct25_72', row='A', col=1, time='72', name='Control'),\n",
    "    dict(exp='ct25_72', row='A', col=2, time='72', name='Control'),\n",
    "    dict(exp='ct25_72', row='B', col=1, time='72', name='Control'),\n",
    "    dict(exp='ct25_72', row='B', col=2, time='72', name='Control'),\n",
    " \n",
    "    dict(exp='ct25_72', row='A', col=5, time='72', name='WNT3a'),\n",
    "    dict(exp='ct25_72', row='B', col=5, time='72', name='WNT3a'),\n",
    "\n",
    "    dict(exp='ct25_72', row='C', col=1, time='72', name='IWP-2'),\n",
    "    dict(exp='ct25_72', row='C', col=2, time='72', name='IWP-2'),\n",
    "    dict(exp='ct25_72', row='D', col=1, time='72', name='IWP-2'),\n",
    "    dict(exp='ct25_72', row='D', col=2, time='72', name='IWP-2'),\n",
    "    \n",
    "    dict(exp='ct25_72', row='C', col=5, time='72', name='IWP-2 + WNT3a'),\n",
    "    dict(exp='ct25_72', row='D', col=5, time='72', name='IWP-2 + WNT3a'),\n",
    "\n",
    "    dict(exp='ct25_72', row='E', col=5, time='72', name='BMP4 + WNT3a'),\n",
    "    dict(exp='ct25_72', row='F', col=5, time='72', name='BMP4 + WNT3a'),\n",
    "    \n",
    "    dict(exp='ct25_72', row='G', col=1, time='72', name='LDN'),\n",
    "    dict(exp='ct25_72', row='G', col=2, time='72', name='LDN'),\n",
    "    dict(exp='ct25_72', row='H', col=1, time='72', name='LDN'),\n",
    "    dict(exp='ct25_72', row='H', col=2, time='72', name='LDN'),\n",
    "    \n",
    "    dict(exp='ct25_72', row='G', col=5, time='72', name='LDN + WNT3a'),\n",
    "    dict(exp='ct25_72', row='H', col=5, time='72', name='LDN + WNT3a')\n",
    "    ]\n",
    "\n",
    "fig5_timeseries_datatray = [\n",
    "    dict(exp='ct25_0', row='B', col=3, time='0', name='Control'),\n",
    "    dict(exp='ct25_0', row='B', col=4, time='0', name='Control'),\n",
    "    dict(exp='ct25_0', row='C', col=3, time='0', name='Control'),\n",
    "    dict(exp='ct25_0', row='C', col=4, time='0', name='Control'),\n",
    "\n",
    "    dict(exp='ct25_24', row='A', col=1, time='24', name='Control'),\n",
    "    dict(exp='ct25_24', row='A', col=2, time='24', name='Control'),\n",
    "    dict(exp='ct25_24', row='B', col=1, time='24', name='Control'),\n",
    "    dict(exp='ct25_24', row='B', col=2, time='24', name='Control'),\n",
    "\n",
    "    dict(exp='ct25_48', row='A', col=1, time='48', name='Control'),\n",
    "    dict(exp='ct25_48', row='A', col=2, time='48', name='Control'),\n",
    "    dict(exp='ct25_48', row='B', col=1, time='48', name='Control'),\n",
    "    dict(exp='ct25_48', row='B', col=2, time='48', name='Control'),\n",
    "\n",
    "    dict(exp='ct25_72', row='A', col=1, time='72', name='Control'),\n",
    "    dict(exp='ct25_72', row='A', col=2, time='72', name='Control'),\n",
    "    dict(exp='ct25_72', row='B', col=1, time='72', name='Control'),\n",
    "    dict(exp='ct25_72', row='B', col=2, time='72', name='Control'),\n",
    "    \n",
    "    dict(exp='ct25_0', row='D', col=3, time='0', name='WNT3a'),\n",
    "    dict(exp='ct25_0', row='D', col=4, time='0', name='WNT3a'),\n",
    "    dict(exp='ct25_0', row='E', col=3, time='0', name='WNT3a'),\n",
    "    dict(exp='ct25_0', row='E', col=4, time='0', name='WNT3a'),\n",
    "\n",
    "    dict(exp='ct25_24', row='A', col=5, time='24', name='WNT3a'),\n",
    "    dict(exp='ct25_24', row='B', col=5, time='24', name='WNT3a'),\n",
    "\n",
    "    dict(exp='ct25_48', row='A', col=5, time='48', name='WNT3a'),\n",
    "    dict(exp='ct25_48', row='B', col=5, time='48', name='WNT3a'),\n",
    "\n",
    "    dict(exp='ct25_72', row='A', col=5, time='72', name='WNT3a'),\n",
    "    dict(exp='ct25_72', row='B', col=5, time='72', name='WNT3a')\n",
    "    ]"
   ]
  },
  {
   "cell_type": "code",
   "execution_count": 13,
   "metadata": {
    "code_folding": [
     0
    ],
    "collapsed": false,
    "scrolled": false
   },
   "outputs": [
    {
     "data": {
      "text/plain": [
       "<seaborn.axisgrid.FacetGrid at 0x1170d81d0>"
      ]
     },
     "execution_count": 13,
     "metadata": {},
     "output_type": "execute_result"
    },
    {
     "data": {
      "image/png": "[encoded data removed]",
      "text/plain": [
       "<matplotlib.figure.Figure at 0x1170d8940>"
      ]
     },
     "metadata": {},
     "output_type": "display_data"
    }
   ],
   "source": [
    "# fig2new: crypt cells, total cell, villus cells line graph \n",
    "# ct25, control wells A1, A2, B1, B2\n",
    "run_type = 'merged'\n",
    "fname1 = fname_lookup['cell']\n",
    "fname2 = fname_lookup['crypt_cell']\n",
    "fname3 = fname_lookup['villus_cell']\n",
    "\n",
    "x_title = 'Time (hrs)'\n",
    "y_title = 'Cell Number'\n",
    "plot_type = 'point'\n",
    "plot_color = fig2_line_palette\n",
    "\n",
    "path1_template = prefix.format(run_type=run_type, fname=fname1)\n",
    "path2_template = prefix.format(run_type=run_type, fname=fname2)\n",
    "path3_template = prefix.format(run_type=run_type, fname=fname3)\n",
    "\n",
    "datatray = fig2_bar_datatray\n",
    "\n",
    "df1 = df_from_matrix(datatray, path1_template, label='total')\n",
    "df2 = df_from_matrix(datatray, path2_template, label='crypt')\n",
    "df3 = df_from_matrix(datatray, path3_template, label='villus')\n",
    "\n",
    "df = df1.append(df2)\n",
    "df = df.append(df3)\n",
    "\n",
    "ax = sns.factorplot(data=df, x='name', y='val', hue='label', kind=plot_type, palette=plot_color)\n",
    "ax.set_axis_labels(x_title, y_title)"
   ]
  },
  {
   "cell_type": "code",
   "execution_count": 43,
   "metadata": {
    "code_folding": [
     0
    ],
    "collapsed": false
   },
   "outputs": [
    {
     "data": {
      "image/png": "[encoded data removed]",
      "text/plain": [
       "<matplotlib.figure.Figure at 0x11b119518>"
      ]
     },
     "metadata": {},
     "output_type": "display_data"
    }
   ],
   "source": [
    "# fig3a: Cell number heatmap\n",
    "# ct24_control1, ct24_control2, all wells\n",
    "\n",
    "run_type = 'merged'\n",
    "fname = fname_lookup['cell']\n",
    "\n",
    "plot_title = 'Cell Number'\n",
    "plot_type = 'bar'\n",
    "plot_color = 'black'\n",
    "\n",
    "path_template = prefix.format(run_type=run_type, fname=fname)\n",
    "\n",
    "exp1 = 'ct24_control1'\n",
    "exp2 = 'ct24_control2'\n",
    "\n",
    "mat1 = pd.read_csv(path_template.format(exp=exp1), header=None).as_matrix()\n",
    "mat2 = pd.read_csv(path_template.format(exp=exp2), header=None).as_matrix()\n",
    "\n",
    "mat2[7][8] = np.nan\n",
    "\n",
    "avg_mat = np.nanmean(np.array([mat1, mat2]), axis=0)\n",
    "avg_mat = avg_mat[np.ix_(mat_rows, mat_cols)]\n",
    "\n",
    "control1 = mat1[0][10]\n",
    "control2 = mat2[0][10]\n",
    "mat1 = mat1[np.ix_(mat_rows, mat_cols)]\n",
    "mat2 = mat2[np.ix_(mat_rows, mat_cols)]\n",
    "max_val = max(np.amax(mat1), np.amax(mat2))\n",
    "min_val = min(np.amin(mat1), np.amin(mat2))\n",
    "levels = get_levels(control1, control2, max_val, min_val)\n",
    "vmax = get_vmax(control1, control2, max_val, min_val)\n",
    "heatmap_palette = red_blue_colormap(levels)\n",
    "\n",
    "mpl.rcParams['figure.figsize'] = fig_sz\n",
    "fig3a = plt.gcf()\n",
    "ax = sns.heatmap(avg_mat, linewidths=.01, cmap=heatmap_palette, yticklabels=[ylabs[i] for i in mat_rows], \n",
    "    xticklabels=[xlabs[i] for i in mat_cols], vmax=vmax, center=avg_mat[center_x][center_y], square=True)\n",
    "ax.set_title(plot_title)\n",
    "plt.yticks(rotation=0) \n",
    "plt.show()"
   ]
  },
  {
   "cell_type": "code",
   "execution_count": 44,
   "metadata": {
    "code_folding": [
     0
    ],
    "collapsed": false
   },
   "outputs": [
    {
     "data": {
      "image/png": "[encoded data removed]",
      "text/plain": [
       "<matplotlib.figure.Figure at 0x116f22f28>"
      ]
     },
     "metadata": {},
     "output_type": "display_data"
    }
   ],
   "source": [
    "# fig3b: Crypt number heatmap\n",
    "# ct24_control1, ct24_control2, all wells\n",
    "\n",
    "run_type = 'merged'\n",
    "fname = fname_lookup['crypt']\n",
    "\n",
    "plot_title = 'Crypt Number'\n",
    "plot_type = 'bar'\n",
    "plot_color = 'black'\n",
    "\n",
    "path_template = prefix.format(run_type=run_type, fname=fname)\n",
    "\n",
    "exp1 = 'ct24_control1'\n",
    "exp2 = 'ct24_control2'\n",
    "\n",
    "mat1 = pd.read_csv(path_template.format(exp=exp1), header=None).as_matrix()\n",
    "mat2 = pd.read_csv(path_template.format(exp=exp2), header=None).as_matrix()\n",
    "mat2[7][8] = np.nan\n",
    "\n",
    "avg_mat = np.nanmean(np.array([mat1, mat2]), axis=0)\n",
    "avg_mat = avg_mat[np.ix_(mat_rows, mat_cols)]\n",
    "\n",
    "control1 = mat1[0][10]\n",
    "control2 = mat2[0][10]\n",
    "mat1 = mat1[np.ix_(mat_rows, mat_cols)]\n",
    "mat2 = mat2[np.ix_(mat_rows, mat_cols)]\n",
    "max_val = max(np.amax(mat1), np.amax(mat2))\n",
    "min_val = min(np.amin(mat1), np.amin(mat2))\n",
    "levels = get_levels(control1, control2, max_val, min_val)\n",
    "vmax = get_vmax(control1, control2, max_val, min_val)\n",
    "heatmap_palette = red_blue_colormap(levels)\n",
    "\n",
    "mpl.rcParams['figure.figsize'] = fig_sz\n",
    "fig3b = plt.gcf()\n",
    "ax = sns.heatmap(avg_mat, linewidths=.01, cmap=heatmap_palette, yticklabels=[ylabs[i] for i in mat_rows], \n",
    "    xticklabels=[xlabs[i] for i in mat_cols], vmax = vmax, center=avg_mat[center_x][center_y], square=True)\n",
    "ax.set_title(plot_title)\n",
    "plt.yticks(rotation=0) \n",
    "plt.show()"
   ]
  },
  {
   "cell_type": "code",
   "execution_count": 45,
   "metadata": {
    "code_folding": [
     0
    ],
    "collapsed": false
   },
   "outputs": [
    {
     "data": {
      "image/png": "[encoded data removed]",
      "text/plain": [
       "<matplotlib.figure.Figure at 0x11b1a9c50>"
      ]
     },
     "metadata": {},
     "output_type": "display_data"
    }
   ],
   "source": [
    "# fig3c: Crypt size heatmap (avg cells/crypt)\n",
    "# ct24_control1, ct24_control2, all wells\n",
    "\n",
    "run_type = 'merged'\n",
    "fname = fname_lookup['crypt_cell']\n",
    "bottom_fname = fname_lookup['crypt']\n",
    "\n",
    "plot_title = 'Crypt Size'\n",
    "plot_type = 'bar'\n",
    "plot_color = 'black'\n",
    "\n",
    "top_path = prefix.format(run_type=run_type, fname=fname)\n",
    "bottom_path = prefix.format(run_type=run_type, fname=bottom_fname)\n",
    "\n",
    "exp1 = 'ct24_control1'\n",
    "exp2 = 'ct24_control2'\n",
    "\n",
    "mat1_top = pd.read_csv(top_path.format(exp=exp1), header=None).as_matrix()\n",
    "mat1_bottom = pd.read_csv(bottom_path.format(exp=exp1), header=None).as_matrix()\n",
    "\n",
    "mat2_top = pd.read_csv(top_path.format(exp=exp2), header=None).as_matrix()\n",
    "mat2_bottom = pd.read_csv(bottom_path.format(exp=exp2), header=None).as_matrix()\n",
    "\n",
    "mat2_top[7][8] = np.nan\n",
    "mat2_bottom[7][8] = np.nan\n",
    "\n",
    "top_mat = np.nansum(np.array([mat1_top, mat2_top]), axis=0)\n",
    "bottom_mat = np.nansum(np.array([mat1_bottom, mat2_bottom]), axis=0)\n",
    "avg_mat = top_mat / bottom_mat\n",
    "avg_mat = avg_mat[np.ix_(mat_rows, mat_cols)]\n",
    "\n",
    "mat1 = mat1_top/mat1_bottom\n",
    "mat2 = mat2_top/mat2_bottom\n",
    "control1 = mat1[0][10]\n",
    "control2 = mat2[0][10]\n",
    "mat1 = mat1[np.ix_(mat_rows, mat_cols)]\n",
    "mat2 = mat2[np.ix_(mat_rows, mat_cols)]\n",
    "max_val = max(np.amax(mat1), np.amax(mat2))\n",
    "min_val = min(np.amin(mat1), np.amin(mat2))\n",
    "levels = get_levels(control1, control2, max_val, min_val)\n",
    "vmax = get_vmax(control1, control2, max_val, min_val)\n",
    "heatmap_palette = red_blue_colormap(levels)\n",
    "\n",
    "mpl.rcParams['figure.figsize'] = fig_sz\n",
    "fig3c = plt.gcf()\n",
    "ax = sns.heatmap(avg_mat, linewidths=.01, cmap=heatmap_palette, yticklabels=[ylabs[i] for i in mat_rows], \n",
    "    xticklabels=[xlabs[i] for i in mat_cols], vmax=vmax, center=avg_mat[center_x][center_y], square=True)\n",
    "ax.set_title(plot_title)\n",
    "plt.yticks(rotation=0) \n",
    "plt.show()"
   ]
  },
  {
   "cell_type": "code",
   "execution_count": 47,
   "metadata": {
    "code_folding": [
     0
    ],
    "collapsed": false,
    "scrolled": false
   },
   "outputs": [
    {
     "data": {
      "image/png": "[encoded data removed]",
      "text/plain": [
       "<matplotlib.figure.Figure at 0x11a558c50>"
      ]
     },
     "metadata": {},
     "output_type": "display_data"
    }
   ],
   "source": [
    "# fig3d: EdU Percent heatmap\n",
    "# ct24_control1, ct24_control2, all wells\n",
    "\n",
    "run_type = 'merged'\n",
    "fname = fname_lookup['edu']\n",
    "bottom_fname = fname_lookup['cell']\n",
    "\n",
    "plot_title = 'EdU+ Percent'\n",
    "plot_type = 'bar'\n",
    "plot_color = 'black'\n",
    "\n",
    "top_path = prefix.format(run_type=run_type, fname=fname)\n",
    "bottom_path = prefix.format(run_type=run_type, fname=bottom_fname)\n",
    "\n",
    "exp1 = 'ct24_control1'\n",
    "exp2 = 'ct24_control2'\n",
    "\n",
    "mat1_top = pd.read_csv(top_path.format(exp=exp1), header=None).as_matrix()\n",
    "mat1_bottom = pd.read_csv(bottom_path.format(exp=exp1), header=None).as_matrix()\n",
    "\n",
    "mat2_top = pd.read_csv(top_path.format(exp=exp2), header=None).as_matrix()\n",
    "mat2_bottom = pd.read_csv(bottom_path.format(exp=exp2), header=None).as_matrix()\n",
    "\n",
    "mat2_top[7][8] = np.nan\n",
    "mat2_bottom[7][8] = np.nan\n",
    "\n",
    "top_mat = np.nansum(np.array([mat1_top, mat2_top]), axis=0)\n",
    "bottom_mat = np.nansum(np.array([mat1_bottom, mat2_bottom]), axis=0)\n",
    "avg_mat = top_mat / bottom_mat\n",
    "avg_mat = avg_mat[np.ix_(mat_rows, mat_cols)]\n",
    "\n",
    "mat1 = mat1_top/mat1_bottom\n",
    "mat2 = mat2_top/mat2_bottom\n",
    "control1 = mat1[0][10]\n",
    "control2 = mat2[0][10]\n",
    "mat1 = mat1[np.ix_(mat_rows, mat_cols)]\n",
    "mat2 = mat2[np.ix_(mat_rows, mat_cols)]\n",
    "max_val = max(np.amax(mat1), np.amax(mat2))\n",
    "min_val = min(np.amin(mat1), np.amin(mat2))\n",
    "levels = get_levels(control1, control2, max_val, min_val)\n",
    "vmax = get_vmax(control1, control2, max_val, min_val)\n",
    "heatmap_palette = red_blue_colormap(levels)\n",
    "\n",
    "mpl.rcParams['figure.figsize'] = fig_sz\n",
    "fig3d = plt.gcf()\n",
    "ax = sns.heatmap(avg_mat, linewidths=.01, cmap=heatmap_palette, yticklabels=[ylabs[i] for i in mat_rows], \n",
    "    xticklabels=[xlabs[i] for i in mat_cols], vmax=vmax, center=avg_mat[center_x][center_y], square=True)\n",
    "ax.set_title(plot_title)\n",
    "plt.yticks(rotation=0) \n",
    "plt.show()"
   ]
  },
  {
   "cell_type": "code",
   "execution_count": 70,
   "metadata": {
    "code_folding": [
     0
    ],
    "collapsed": true
   },
   "outputs": [
    {
     "data": {
      "image/png": "[encoded data removed]",
      "text/plain": [
       "<matplotlib.figure.Figure at 0x11c3d3198>"
      ]
     },
     "metadata": {},
     "output_type": "display_data"
    }
   ],
   "source": [
    "# fig3e: Villi Percent heatmap\n",
    "# ct24_control1, ct24_control2, all wells\n",
    "\n",
    "run_type = 'merged'\n",
    "fname = fname_lookup['villus_cell']\n",
    "bottom_fname = fname_lookup['cell']\n",
    "\n",
    "plot_title = 'Villi Percent'\n",
    "plot_type = 'bar'\n",
    "plot_color = 'black'\n",
    "\n",
    "top_path = prefix.format(run_type=run_type, fname=fname)\n",
    "bottom_path = prefix.format(run_type=run_type, fname=bottom_fname)\n",
    "\n",
    "exp1 = 'ct24_control1'\n",
    "exp2 = 'ct24_control2'\n",
    "\n",
    "mat1_top = pd.read_csv(top_path.format(exp=exp1), header=None).as_matrix()\n",
    "mat1_bottom = pd.read_csv(bottom_path.format(exp=exp1), header=None).as_matrix()\n",
    "\n",
    "mat2_top = pd.read_csv(top_path.format(exp=exp2), header=None).as_matrix()\n",
    "mat2_bottom = pd.read_csv(bottom_path.format(exp=exp2), header=None).as_matrix()\n",
    "\n",
    "mat2_top[7][8] = np.nan\n",
    "mat2_bottom[7][8] = np.nan\n",
    "\n",
    "top_mat = np.nansum(np.array([mat1_top, mat2_top]), axis=0)\n",
    "bottom_mat = np.nansum(np.array([mat1_bottom, mat2_bottom]), axis=0)\n",
    "avg_mat = top_mat / bottom_mat\n",
    "avg_mat = avg_mat[np.ix_(mat_rows, mat_cols)]\n",
    "\n",
    "\n",
    "mpl.rcParams['figure.figsize'] = fig_sz\n",
    "fig3e = plt.gcf()\n",
    "ax = sns.heatmap(avg_mat, linewidths=.01, cmap=heatmap_palette, yticklabels=[ylabs[i] for i in mat_rows], \n",
    "    xticklabels=[xlabs[i] for i in mat_cols], center=avg_mat[center_x][center_y], square=True)\n",
    "ax.set_title(plot_title)\n",
    "plt.yticks(rotation=0) \n",
    "plt.show()"
   ]
  },
  {
   "cell_type": "code",
   "execution_count": 48,
   "metadata": {
    "code_folding": [
     0
    ],
    "collapsed": false,
    "scrolled": false
   },
   "outputs": [
    {
     "data": {
      "image/png": "[encoded data removed]",
      "text/plain": [
       "<matplotlib.figure.Figure at 0x11b763828>"
      ]
     },
     "metadata": {},
     "output_type": "display_data"
    }
   ],
   "source": [
    "# fig3f: Crypt Percent heatmap\n",
    "# ct24_control1, ct24_control2, all wells\n",
    "\n",
    "run_type = 'merged'\n",
    "fname = fname_lookup['crypt_cell']\n",
    "bottom_fname = fname_lookup['cell']\n",
    "\n",
    "plot_title = 'Crypt Percent'\n",
    "plot_type = 'bar'\n",
    "plot_color = 'black'\n",
    "\n",
    "top_path = prefix.format(run_type=run_type, fname=fname)\n",
    "bottom_path = prefix.format(run_type=run_type, fname=bottom_fname)\n",
    "\n",
    "exp1 = 'ct24_control1'\n",
    "exp2 = 'ct24_control2'\n",
    "\n",
    "mat1_top = pd.read_csv(top_path.format(exp=exp1), header=None).as_matrix()\n",
    "mat1_bottom = pd.read_csv(bottom_path.format(exp=exp1), header=None).as_matrix()\n",
    "\n",
    "mat2_top = pd.read_csv(top_path.format(exp=exp2), header=None).as_matrix()\n",
    "mat2_bottom = pd.read_csv(bottom_path.format(exp=exp2), header=None).as_matrix()\n",
    "\n",
    "mat2_top[7][8] = np.nan\n",
    "mat2_bottom[7][8] = np.nan\n",
    "\n",
    "top_mat = np.nansum(np.array([mat1_top, mat2_top]), axis=0)\n",
    "bottom_mat = np.nansum(np.array([mat1_bottom, mat2_bottom]), axis=0)\n",
    "avg_mat = top_mat / bottom_mat\n",
    "avg_mat = avg_mat[np.ix_(mat_rows, mat_cols)]\n",
    "\n",
    "mat1 = mat1_top/mat1_bottom\n",
    "mat2 = mat2_top/mat2_bottom\n",
    "control1 = mat1[0][10]\n",
    "control2 = mat2[0][10]\n",
    "mat1 = mat1[np.ix_(mat_rows, mat_cols)]\n",
    "mat2 = mat2[np.ix_(mat_rows, mat_cols)]\n",
    "max_val = max(np.amax(mat1), np.amax(mat2))\n",
    "min_val = min(np.amin(mat1), np.amin(mat2))\n",
    "levels = get_levels(control1, control2, max_val, min_val)\n",
    "vmax = get_vmax(control1, control2, max_val, min_val)\n",
    "heatmap_palette = red_blue_colormap(levels)\n",
    "\n",
    "mpl.rcParams['figure.figsize'] = fig_sz\n",
    "fig3f = plt.gcf()\n",
    "ax = sns.heatmap(avg_mat, linewidths=.01, cmap=heatmap_palette, yticklabels=[ylabs[i] for i in mat_rows], \n",
    "    xticklabels=[xlabs[i] for i in mat_cols], vmax = vmax, center=avg_mat[center_x][center_y], square=True)\n",
    "ax.set_title(plot_title)\n",
    "plt.yticks(rotation=0) \n",
    "plt.show()"
   ]
  },
  {
   "cell_type": "code",
   "execution_count": 49,
   "metadata": {
    "code_folding": [
     0
    ],
    "collapsed": false
   },
   "outputs": [
    {
     "data": {
      "image/png": "[encoded data removed]",
      "text/plain": [
       "<matplotlib.figure.Figure at 0x11b745d30>"
      ]
     },
     "metadata": {},
     "output_type": "display_data"
    }
   ],
   "source": [
    "# fig3g: Crypt over villus heatmap\n",
    "# ct24_control1, ct24_control2, all wells\n",
    "\n",
    "run_type = 'merged'\n",
    "fname = fname_lookup['crypt_cell']\n",
    "bottom_fname = fname_lookup['villus_cell']\n",
    "\n",
    "plot_title = 'Crypt over Villus Cell Num'\n",
    "plot_type = 'bar'\n",
    "plot_color = 'black'\n",
    "\n",
    "top_path = prefix.format(run_type=run_type, fname=fname)\n",
    "bottom_path = prefix.format(run_type=run_type, fname=bottom_fname)\n",
    "\n",
    "exp1 = 'ct24_control1'\n",
    "exp2 = 'ct24_control2'\n",
    "\n",
    "mat1_top = pd.read_csv(top_path.format(exp=exp1), header=None).as_matrix()\n",
    "mat1_bottom = pd.read_csv(bottom_path.format(exp=exp1), header=None).as_matrix()\n",
    "\n",
    "mat2_top = pd.read_csv(top_path.format(exp=exp2), header=None).as_matrix()\n",
    "mat2_bottom = pd.read_csv(bottom_path.format(exp=exp2), header=None).as_matrix()\n",
    "\n",
    "mat2_top[7][8] = np.nan\n",
    "mat2_bottom[7][8] = np.nan\n",
    "\n",
    "top_mat = np.nansum(np.array([mat1_top, mat2_top]), axis=0)\n",
    "bottom_mat = np.nansum(np.array([mat1_bottom, mat2_bottom]), axis=0)\n",
    "avg_mat = top_mat / bottom_mat\n",
    "avg_mat = avg_mat[np.ix_(mat_rows, mat_cols)]\n",
    "\n",
    "mat1 = mat1_top/mat1_bottom\n",
    "mat2 = mat2_top/mat2_bottom\n",
    "control1 = mat1[0][10]\n",
    "control2 = mat2[0][10]\n",
    "mat1 = mat1[np.ix_(mat_rows, mat_cols)]\n",
    "mat2 = mat2[np.ix_(mat_rows, mat_cols)]\n",
    "max_val = max(np.amax(mat1), np.amax(mat2))\n",
    "min_val = min(np.amin(mat1), np.amin(mat2))\n",
    "levels = get_levels(control1, control2, max_val, min_val)\n",
    "vmax = get_vmax(control1, control2, max_val, min_val)\n",
    "heatmap_palette = red_blue_colormap(levels)\n",
    "\n",
    "mpl.rcParams['figure.figsize'] = fig_sz\n",
    "fig3g = plt.gcf()\n",
    "ax = sns.heatmap(avg_mat, linewidths=.01, cmap=heatmap_palette, yticklabels=[ylabs[i] for i in mat_rows], \n",
    "    xticklabels=[xlabs[i] for i in mat_cols], vmax=vmax, center=avg_mat[center_x][center_y], square=True)\n",
    "ax.set_title(plot_title)\n",
    "plt.yticks(rotation=0) \n",
    "plt.show()"
   ]
  },
  {
   "cell_type": "code",
   "execution_count": 72,
   "metadata": {
    "code_folding": [
     0
    ],
    "collapsed": false
   },
   "outputs": [
    {
     "data": {
      "text/plain": [
       "<seaborn.axisgrid.FacetGrid at 0x11d74f0f0>"
      ]
     },
     "execution_count": 72,
     "metadata": {},
     "output_type": "execute_result"
    },
    {
     "data": {
      "image/png": "[encoded data removed]",
      "text/plain": [
       "<matplotlib.figure.Figure at 0x11d727fd0>"
      ]
     },
     "metadata": {},
     "output_type": "display_data"
    }
   ],
   "source": [
    "# fig4d: EdU+ cells % over time\n",
    "# ct25\n",
    "#    - control: A1, A2, B1, B2\n",
    "#    - WNT3A: A5, B5\n",
    "#    - IWP-2: C1, C2, D1, D2\n",
    "#    - BMP4: E1, E2, F1, F2\n",
    "#    - LDN: G1, G2, H1, H2\n",
    "\n",
    "run_type = 'merged'\n",
    "fname = fname_lookup['edu']\n",
    "bottom_fname = fname_lookup['cell']\n",
    "\n",
    "x_title = 'Time (hrs)'\n",
    "y_title = 'EdU+ cells (%)'\n",
    "plot_type = 'point'\n",
    "plot_palette = line_palette\n",
    "plot_style = line_style\n",
    "\n",
    "path_template = prefix.format(run_type=run_type, fname=fname)\n",
    "bottom_template = prefix.format(run_type=run_type, fname=bottom_fname)\n",
    "\n",
    "datatray = fig4_line_datatray\n",
    "\n",
    "df = df_ratio_from_matrix(datatray, path_template, bottom_template)\n",
    "\n",
    "ax = sns.factorplot(data=df, x='time', y='val', hue='name', kind=plot_type, palette=plot_palette, linestyles=plot_style)\n",
    "ax.set_axis_labels(x_title, y_title)"
   ]
  },
  {
   "cell_type": "code",
   "execution_count": 73,
   "metadata": {
    "code_folding": [
     0
    ],
    "collapsed": true
   },
   "outputs": [
    {
     "data": {
      "text/plain": [
       "<seaborn.axisgrid.FacetGrid at 0x11e4f6d30>"
      ]
     },
     "execution_count": 73,
     "metadata": {},
     "output_type": "execute_result"
    },
    {
     "data": {
      "image/png": "[encoded data removed]",
      "text/plain": [
       "<matplotlib.figure.Figure at 0x11c988400>"
      ]
     },
     "metadata": {},
     "output_type": "display_data"
    }
   ],
   "source": [
    "# fig4d: Crypt cell % over time\n",
    "# ct25\n",
    "#    - control: A1, A2, B1, B2\n",
    "#    - WNT3A: A5, B5\n",
    "#    - IWP-2: C1, C2, D1, D2\n",
    "#    - BMP4: E1, E2, F1, F2\n",
    "#    - LDN: G1, G2, H1, H2\n",
    "\n",
    "run_type = 'merged'\n",
    "fname = fname_lookup['crypt_cell']\n",
    "bottom_fname = fname_lookup['cell']\n",
    "\n",
    "x_title = 'Time (hrs)'\n",
    "y_title = 'Crypt cell (%)'\n",
    "plot_type = 'point'\n",
    "plot_palette = line_palette\n",
    "plot_style = line_style\n",
    "\n",
    "path_template = prefix.format(run_type=run_type, fname=fname)\n",
    "bottom_template = prefix.format(run_type=run_type, fname=bottom_fname)\n",
    "\n",
    "datatray = fig4_line_datatray\n",
    "\n",
    "df = df_ratio_from_matrix(datatray, path_template, bottom_template)\n",
    "\n",
    "ax = sns.factorplot(data=df, x='time', y='val', hue='name', kind=plot_type, palette=plot_palette, linestyles=plot_style)\n",
    "ax.set_axis_labels(x_title, y_title)\n",
    "# sns.plt.ylim([0,1000])"
   ]
  },
  {
   "cell_type": "code",
   "execution_count": 74,
   "metadata": {
    "code_folding": [
     0
    ],
    "collapsed": true
   },
   "outputs": [
    {
     "data": {
      "text/plain": [
       "<seaborn.axisgrid.FacetGrid at 0x11e898b70>"
      ]
     },
     "execution_count": 74,
     "metadata": {},
     "output_type": "execute_result"
    },
    {
     "data": {
      "image/png": "[encoded data removed]",
      "text/plain": [
       "<matplotlib.figure.Figure at 0x11e898da0>"
      ]
     },
     "metadata": {},
     "output_type": "display_data"
    }
   ],
   "source": [
    "# fig4e: Villus cell number over time\n",
    "# ct25\n",
    "#    - control: A1, A2, B1, B2\n",
    "#    - WNT3A: A5, B5\n",
    "#    - IWP-2: C1, C2, D1, D2\n",
    "#    - BMP4: E1, E2, F1, F2\n",
    "#    - LDN: G1, G2, H1, H2\n",
    "\n",
    "run_type = 'merged'\n",
    "fname = fname_lookup['villus_cell']\n",
    "bottom_fname = fname_lookup['cell']\n",
    "\n",
    "x_title = 'Time (hrs)'\n",
    "y_title = 'Villus %'\n",
    "plot_type = 'point'\n",
    "plot_palette = line_palette\n",
    "plot_style = line_style\n",
    "\n",
    "path_template = prefix.format(run_type=run_type, fname=fname)\n",
    "bottom_template = prefix.format(run_type=run_type, fname=bottom_fname)\n",
    "\n",
    "datatray = fig4_line_datatray\n",
    "\n",
    "df = df_ratio_from_matrix(datatray, path_template, bottom_template)\n",
    "\n",
    "ax = sns.factorplot(data=df, x='time', y='val', hue='name', kind=plot_type, palette=plot_palette, linestyles=plot_style)\n",
    "ax.set_axis_labels(x_title, y_title)"
   ]
  },
  {
   "cell_type": "code",
   "execution_count": 90,
   "metadata": {
    "code_folding": [
     0
    ],
    "collapsed": false
   },
   "outputs": [
    {
     "data": {
      "text/plain": [
       "<seaborn.axisgrid.FacetGrid at 0x11e918320>"
      ]
     },
     "execution_count": 90,
     "metadata": {},
     "output_type": "execute_result"
    },
    {
     "data": {
      "image/png": "[encoded data removed]",
      "text/plain": [
       "<matplotlib.figure.Figure at 0x11e9185c0>"
      ]
     },
     "metadata": {},
     "output_type": "display_data"
    }
   ],
   "source": [
    "# fig4d: Crypt cell over villus cell over time\n",
    "# ct25\n",
    "#    - control: A1, A2, B1, B2\n",
    "#    - WNT3A: A5, B5\n",
    "#    - IWP-2: C1, C2, D1, D2\n",
    "#    - BMP4: E1, E2, F1, F2\n",
    "#    - LDN: G1, G2, H1, H2\n",
    "\n",
    "run_type = 'merged'\n",
    "fname = fname_lookup['crypt_cell']\n",
    "bottom_fname = fname_lookup['villus_cell']\n",
    "\n",
    "x_title = 'Time (hrs)'\n",
    "y_title = 'Crypt cell over Villus cell'\n",
    "plot_type = 'point'\n",
    "plot_palette = line_palette\n",
    "plot_style = line_style\n",
    "\n",
    "path_template = prefix.format(run_type=run_type, fname=fname)\n",
    "bottom_template = prefix.format(run_type=run_type, fname=bottom_fname)\n",
    "\n",
    "datatray = fig4_line_datatray\n",
    "\n",
    "df = df_ratio_from_matrix(datatray, path_template, bottom_template)\n",
    "\n",
    "ax = sns.factorplot(data=df, x='time', y='val', hue='name', kind=plot_type, palette=plot_palette, linestyles=plot_style)\n",
    "ax.set_axis_labels(x_title, y_title)\n",
    "# sns.plt.ylim([0,1000])"
   ]
  },
  {
   "cell_type": "code",
   "execution_count": 89,
   "metadata": {
    "code_folding": [
     0
    ],
    "collapsed": false
   },
   "outputs": [
    {
     "data": {
      "text/plain": [
       "<seaborn.axisgrid.FacetGrid at 0x11cab4be0>"
      ]
     },
     "execution_count": 89,
     "metadata": {},
     "output_type": "execute_result"
    },
    {
     "data": {
      "image/png": "[encoded data removed]",
      "text/plain": [
       "<matplotlib.figure.Figure at 0x11e684dd8>"
      ]
     },
     "metadata": {},
     "output_type": "display_data"
    }
   ],
   "source": [
    "# fig4f: EdU+ % bar plot\n",
    "# ct25\n",
    "#    - control: A1, A2, B1, B2\n",
    "#    - WNT3A: A5, B5\n",
    "#    - IWP-2: C1, C2, D1, D2\n",
    "#    - BMP4: E1, E2, F1, F2\n",
    "#    - LDN: G1, G2, H1, H2\n",
    "#    - IWP-2 + WNT: C5, D5\n",
    "#    - LDN + WNT: G5, H5\n",
    "\n",
    "run_type = 'merged'\n",
    "fname = fname_lookup['edu']\n",
    "bottom_fname = fname_lookup['cell']\n",
    "\n",
    "x_title = 'Treatment'\n",
    "y_title = 'EdU %'\n",
    "plot_type = 'bar'\n",
    "plot_palette = 'black'\n",
    "\n",
    "path_template = prefix.format(run_type=run_type, fname=fname)\n",
    "bottom_template = prefix.format(run_type=run_type, fname=bottom_fname)\n",
    "\n",
    "datatray = fig4_bar_72h_datatray\n",
    "\n",
    "df = df_ratio_from_matrix(datatray, path_template, bottom_template)\n",
    "\n",
    "ax = sns.factorplot(data=df, x='name', y='val', kind=plot_type, size=6, color=plot_palette)\n",
    "ax.set_axis_labels(x_title, y_title)"
   ]
  },
  {
   "cell_type": "code",
   "execution_count": 158,
   "metadata": {
    "code_folding": [
     0
    ],
    "collapsed": true
   },
   "outputs": [
    {
     "data": {
      "text/plain": [
       "<seaborn.axisgrid.FacetGrid at 0x121c0ac88>"
      ]
     },
     "execution_count": 158,
     "metadata": {},
     "output_type": "execute_result"
    },
    {
     "data": {
      "image/png": "[encoded data removed]",
      "text/plain": [
       "<matplotlib.figure.Figure at 0x1219883c8>"
      ]
     },
     "metadata": {},
     "output_type": "display_data"
    }
   ],
   "source": [
    "# fig4new: crypt size Control, WNT, WNT+IWP, IWP (48h)\n",
    "\n",
    "run_type = 'merged'\n",
    "fname = fname_lookup['crypt_cell']\n",
    "bottom_fname = fname_lookup['crypt']\n",
    "\n",
    "x_title = 'Treatment'\n",
    "y_title = 'Crypt Size 72h'\n",
    "plot_type = 'bar'\n",
    "plot_palette = 'black'\n",
    "\n",
    "path_template = prefix.format(run_type=run_type, fname=fname)\n",
    "bottom_template = prefix.format(run_type=run_type, fname=bottom_fname)\n",
    "\n",
    "datatray = fig4_bar_72h_datatray\n",
    "\n",
    "df = df_ratio_from_matrix(datatray, path_template, bottom_template)\n",
    "\n",
    "ax = sns.factorplot(data=df, x='name', y='val', kind=plot_type, size=10, color=plot_palette)\n",
    "ax.set_axis_labels(x_title, y_title)"
   ]
  },
  {
   "cell_type": "code",
   "execution_count": 159,
   "metadata": {
    "code_folding": [
     0
    ],
    "collapsed": false
   },
   "outputs": [
    {
     "data": {
      "text/plain": [
       "<seaborn.axisgrid.FacetGrid at 0x121c182b0>"
      ]
     },
     "execution_count": 159,
     "metadata": {},
     "output_type": "execute_result"
    },
    {
     "data": {
      "image/png": "[encoded data removed]",
      "text/plain": [
       "<matplotlib.figure.Figure at 0x121988400>"
      ]
     },
     "metadata": {},
     "output_type": "display_data"
    }
   ],
   "source": [
    "# fig4new: Crypt number over time\n",
    "# ct25\n",
    "#    - control: A1, A2, B1, B2\n",
    "#    - WNT3A: A5, B5\n",
    "#    - IWP-2: C1, C2, D1, D2\n",
    "#    - BMP4: E1, E2, F1, F2\n",
    "#    - LDN: G1, G2, H1, H2\n",
    "\n",
    "run_type = 'merged'\n",
    "fname = fname_lookup['cell']\n",
    "\n",
    "x_title = 'Time (hrs)'\n",
    "y_title = 'Crypt number'\n",
    "plot_type = 'point'\n",
    "plot_palette = line_palette\n",
    "plot_style = line_style\n",
    "\n",
    "path_template = prefix.format(run_type=run_type, fname=fname)\n",
    "\n",
    "datatray = fig4_line_datatray\n",
    "\n",
    "df = df_from_matrix(datatray, path_template)\n",
    "\n",
    "ax = sns.factorplot(data=df, x='time', y='val', hue='name', kind=plot_type, palette=plot_palette, linestyles=plot_style)\n",
    "ax.set_axis_labels(x_title, y_title)"
   ]
  },
  {
   "cell_type": "code",
   "execution_count": 112,
   "metadata": {
    "code_folding": [],
    "collapsed": false
   },
   "outputs": [
    {
     "data": {
      "image/png": "[encoded data removed]",
      "text/plain": [
       "<matplotlib.figure.Figure at 0x11f01bda0>"
      ]
     },
     "metadata": {},
     "output_type": "display_data"
    }
   ],
   "source": [
    "# fig5b: Paneth number matrix\n",
    "# ct24_control1, ct24_control2: all wells\n",
    "\n",
    "run_type = 'paneth'\n",
    "fname = fname_lookup['paneth_drop']\n",
    "\n",
    "plot_title = 'Paneth Cell Number'\n",
    "\n",
    "path_template = prefix.format(run_type=run_type, fname=fname)\n",
    "bottom_template = prefix.format(run_type=bottom_run_type, fname=bottom_fname)\n",
    "\n",
    "exp1 = 'ct24_control1'\n",
    "exp2 = 'ct24_control2'\n",
    "\n",
    "mat1 = pd.read_csv(path_template.format(exp=exp1), header=None).as_matrix()\n",
    "mat2 = pd.read_csv(path_template.format(exp=exp2), header=None).as_matrix()\n",
    "\n",
    "avg_mat = np.nanmean(np.array([mat1, mat2]), axis=0)\n",
    "avg_mat = avg_mat[np.ix_(paneth_rows, paneth_cols)]\n",
    "\n",
    "\n",
    "mpl.rcParams['figure.figsize'] = fig_sz\n",
    "fig5b = plt.gcf()\n",
    "# ax = sns.heatmap(avg_mat, linewidths=.01, yticklabels=[ylabs[i] for i in paneth_rows], \n",
    "#     xticklabels=[xlabs[i] for i in paneth_cols], center=avg_mat[center_x][center_y], square=True)\n",
    "ax = sns.heatmap(avg_mat, linewidths=.01, cmap=heatmap_monocolor, yticklabels=[ylabs[i] for i in paneth_rows], \n",
    "    xticklabels=[xlabs[i] for i in paneth_cols], vmax=300, square=True)\n",
    "ax.set_title(plot_title)\n",
    "plt.yticks(rotation=0) \n",
    "plt.show()"
   ]
  },
  {
   "cell_type": "code",
   "execution_count": 32,
   "metadata": {
    "code_folding": [
     0
    ],
    "collapsed": false
   },
   "outputs": [
    {
     "data": {
      "image/png": "[encoded data removed]",
      "text/plain": [
       "<matplotlib.figure.Figure at 0x1168844e0>"
      ]
     },
     "metadata": {},
     "output_type": "display_data"
    }
   ],
   "source": [
    "# fig5b: Paneth number matrix\n",
    "# ct24_control1, ct24_control2: all wells\n",
    "\n",
    "run_type = 'paneth'\n",
    "fname = fname_lookup['paneth_drop']\n",
    "bottom_run_type = 'merged'\n",
    "bottom_fname = fname_lookup['cell']\n",
    "\n",
    "plot_title = 'Paneth Cell percent'\n",
    "\n",
    "path_template = prefix.format(run_type=run_type, fname=fname)\n",
    "bottom_template = prefix.format(run_type=bottom_run_type, fname=bottom_fname)\n",
    "\n",
    "exp1 = 'ct24_control1'\n",
    "exp2 = 'ct24_control2'\n",
    "\n",
    "mat1_top = pd.read_csv(path_template.format(exp=exp1), header=None).as_matrix()\n",
    "mat2_top = pd.read_csv(path_template.format(exp=exp2), header=None).as_matrix()\n",
    "\n",
    "mat1_bottom = pd.read_csv(bottom_template.format(exp=exp1), header=None).as_matrix()\n",
    "mat2_bottom = pd.read_csv(bottom_template.format(exp=exp2), header=None).as_matrix()\n",
    "\n",
    "top_mat = np.nansum(np.array([mat1_top, mat2_top]), axis=0)\n",
    "bottom_mat = np.nansum(np.array([mat1_bottom, mat2_bottom]), axis=0)\n",
    "avg_mat = top_mat / bottom_mat\n",
    "avg_mat = avg_mat[np.ix_(paneth_rows, paneth_cols)]\n",
    "\n",
    "levels = [0,1]\n",
    "heatmap_palette = red_colormap(levels)\n",
    "\n",
    "mpl.rcParams['figure.figsize'] = fig_sz\n",
    "fig5b = plt.gcf()\n",
    "ax = sns.heatmap(avg_mat, linewidths=.01, yticklabels=[ylabs[i] for i in paneth_rows], \n",
    "    xticklabels=[xlabs[i] for i in paneth_cols], cmap=heatmap_palette, square=True)\n",
    "# ax = sns.heatmap(avg_mat, linewidths=.01, cmap=heatmap_palette, yticklabels=[ylabs[i] for i in paneth_rows], \n",
    "#     xticklabels=[xlabs[i] for i in paneth_cols], center=avg_mat[center_x][center_y], square=True)\n",
    "ax.set_title(plot_title)\n",
    "plt.yticks(rotation=0) \n",
    "plt.show()"
   ]
  },
  {
   "cell_type": "code",
   "execution_count": 131,
   "metadata": {
    "code_folding": [
     0,
     16
    ],
    "collapsed": false
   },
   "outputs": [
    {
     "data": {
      "text/plain": [
       "<seaborn.axisgrid.FacetGrid at 0x12062ea90>"
      ]
     },
     "execution_count": 131,
     "metadata": {},
     "output_type": "execute_result"
    },
    {
     "data": {
      "image/png": "[encoded data removed]",
      "text/plain": [
       "<matplotlib.figure.Figure at 0x11f783be0>"
      ]
     },
     "metadata": {},
     "output_type": "display_data"
    }
   ],
   "source": [
    "# fig5c: Paneth cell Wnt dosage\n",
    "# ct24_control1, ct24_control2: row A\n",
    "\n",
    "run_type = 'paneth'\n",
    "fname = fname_lookup['paneth_drop']\n",
    "bottom_run_type = 'merged'\n",
    "bottom_fname = fname_lookup['cell']\n",
    "\n",
    "x_title = '[WNT3a] nM'\n",
    "y_title = 'Paneth Cell number'\n",
    "plot_type = 'point'\n",
    "plot_color = 'black'\n",
    "\n",
    "path_template = prefix.format(run_type=run_type, fname=fname)\n",
    "bottom_path = prefix.format(run_type=bottom_run_type, fname=bottom_fname)\n",
    "\n",
    "datatray = [\n",
    "    dict(exp='ct24_control1', row='A', col=2, name=8),\n",
    "    dict(exp='ct24_control1', row='A', col=3, name=4),\n",
    "    dict(exp='ct24_control1', row='A', col=4, name=2),\n",
    "    dict(exp='ct24_control1', row='A', col=5, name=1),\n",
    "    dict(exp='ct24_control1', row='A', col=6, name=0.5),\n",
    "    dict(exp='ct24_control1', row='A', col=7, name=0.25),\n",
    "    dict(exp='ct24_control1', row='A', col=8, name=0.125),\n",
    "    dict(exp='ct24_control1', row='A', col=9, name=0.0625),\n",
    "    dict(exp='ct24_control1', row='A', col=10, name=0.0312),\n",
    "    dict(exp='ct24_control1', row='A', col=11, name=0),\n",
    "    dict(exp='ct24_control2', row='A', col=2, name=8),\n",
    "    dict(exp='ct24_control2', row='A', col=3, name=4),\n",
    "    dict(exp='ct24_control2', row='A', col=4, name=2),\n",
    "    dict(exp='ct24_control2', row='A', col=5, name=1),\n",
    "    dict(exp='ct24_control2', row='A', col=6, name=0.5),\n",
    "    dict(exp='ct24_control2', row='A', col=7, name=0.25),\n",
    "    dict(exp='ct24_control2', row='A', col=8, name=0.125),\n",
    "    dict(exp='ct24_control2', row='A', col=9, name=0.0625),\n",
    "    dict(exp='ct24_control2', row='A', col=10, name=0.0312),\n",
    "    dict(exp='ct24_control2', row='A', col=11, name=0)\n",
    "    ]\n",
    "\n",
    "# df = df_from_matrix(datatray, path_template)\n",
    "df = df_from_matrix(datatray, path_template, bottom_path)\n",
    "\n",
    "ax = sns.factorplot(data=df, x='name', y='val', kind=plot_type, color=plot_color)\n",
    "ax.set_axis_labels(x_title, y_title)"
   ]
  },
  {
   "cell_type": "code",
   "execution_count": 31,
   "metadata": {
    "code_folding": [
     0,
     16
    ],
    "collapsed": false
   },
   "outputs": [
    {
     "data": {
      "text/plain": [
       "<seaborn.axisgrid.FacetGrid at 0x1166e7828>"
      ]
     },
     "execution_count": 31,
     "metadata": {},
     "output_type": "execute_result"
    },
    {
     "data": {
      "image/png": "[encoded data removed]",
      "text/plain": [
       "<matplotlib.figure.Figure at 0x1168a4748>"
      ]
     },
     "metadata": {},
     "output_type": "display_data"
    }
   ],
   "source": [
    "# fig5new: Paneth cell BMP dosage\n",
    "# ct24_control1, ct24_control2: row A\n",
    "\n",
    "run_type = 'paneth'\n",
    "fname = fname_lookup['paneth_drop']\n",
    "bottom_run_type = 'merged'\n",
    "bottom_fname = fname_lookup['crypt']\n",
    "\n",
    "x_title = '[BMP] nM'\n",
    "y_title = 'Paneth Cell number'\n",
    "plot_type = 'point'\n",
    "plot_color = 'black'\n",
    "\n",
    "path_template = prefix.format(run_type=run_type, fname=fname)\n",
    "bottom_path = prefix.format(run_type=bottom_run_type, fname=bottom_fname)\n",
    "\n",
    "datatray = [\n",
    "    dict(exp='ct24_control1', row='A', col=12, name=0),\n",
    "    dict(exp='ct24_control1', row='B', col=12, name=0.3120625),\n",
    "    dict(exp='ct24_control1', row='C', col=12, name=0.78125),\n",
    "    dict(exp='ct24_control1', row='D', col=12, name=1.5625),\n",
    "    dict(exp='ct24_control1', row='E', col=12, name=3.125),\n",
    "    dict(exp='ct24_control1', row='F', col=12, name=6.25),\n",
    "    dict(exp='ct24_control1', row='G', col=12, name=12.5),\n",
    "#     dict(exp='ct24_control1', row='H', col=12, name=25),\n",
    "    dict(exp='ct24_control2', row='A', col=11, name=0),\n",
    "    dict(exp='ct24_control2', row='B', col=11, name=0.3120625),\n",
    "    dict(exp='ct24_control2', row='C', col=11, name=0.78125),\n",
    "    dict(exp='ct24_control2', row='D', col=11, name=1.5625),\n",
    "    dict(exp='ct24_control2', row='E', col=11, name=3.125),\n",
    "    dict(exp='ct24_control2', row='F', col=11, name=6.25),\n",
    "    dict(exp='ct24_control2', row='G', col=11, name=12.5),\n",
    "#     dict(exp='ct24_control2', row='H', col=12, name=25)\n",
    "    ]\n",
    "\n",
    "# df = df_from_matrix(datatray, path_template)\n",
    "df = df_ratio_from_matrix(datatray, path_template, bottom_path)\n",
    "\n",
    "ax = sns.factorplot(data=df, x='name', y='val', vmax=10, kind=plot_type, color=plot_color)\n",
    "ax.set_axis_labels(x_title, y_title)"
   ]
  },
  {
   "cell_type": "code",
   "execution_count": null,
   "metadata": {
    "code_folding": [
     0,
     16
    ],
    "collapsed": true
   },
   "outputs": [],
   "source": [
    "# fig5new: Paneth cell BMP dosage\n",
    "# ct24_control1, ct24_control2: row A\n",
    "\n",
    "run_type = 'paneth'\n",
    "fname = fname_lookup['paneth_drop']\n",
    "bottom_run_type = 'merged'\n",
    "bottom_fname = fname_lookup['crypt']\n",
    "\n",
    "x_title = '[BMP] nM'\n",
    "y_title = 'Paneth Cell per crypt'\n",
    "plot_type = 'point'\n",
    "plot_color = 'black'\n",
    "\n",
    "path_template = prefix.format(run_type=run_type, fname=fname)\n",
    "bottom_path = prefix.format(run_type=bottom_run_type, fname=bottom_fname)\n",
    "\n",
    "datatray = [\n",
    "    dict(exp='ct24_control1', row='A', col=12, name=0),\n",
    "    dict(exp='ct24_control1', row='B', col=12, name=0.3120625),\n",
    "    dict(exp='ct24_control1', row='C', col=12, name=0.78125),\n",
    "    dict(exp='ct24_control1', row='D', col=12, name=1.5625),\n",
    "    dict(exp='ct24_control1', row='E', col=12, name=3.125),\n",
    "    dict(exp='ct24_control1', row='F', col=12, name=6.25),\n",
    "    dict(exp='ct24_control1', row='G', col=12, name=12.5),\n",
    "#     dict(exp='ct24_control1', row='H', col=12, name=25),\n",
    "    dict(exp='ct24_control2', row='A', col=12, name=0),\n",
    "    dict(exp='ct24_control2', row='B', col=12, name=0.3120625),\n",
    "    dict(exp='ct24_control2', row='C', col=12, name=0.78125),\n",
    "    dict(exp='ct24_control2', row='D', col=12, name=1.5625),\n",
    "    dict(exp='ct24_control2', row='E', col=12, name=3.125),\n",
    "    dict(exp='ct24_control2', row='F', col=12, name=6.25),\n",
    "    dict(exp='ct24_control2', row='G', col=12, name=12.5),\n",
    "#     dict(exp='ct24_control2', row='H', col=12, name=25)\n",
    "    ]\n",
    "\n",
    "# df = df_from_matrix(datatray, path_template)\n",
    "df = df_ratio_from_matrix(datatray, path_template, bottom_path)\n",
    "\n",
    "ax = sns.factorplot(data=df, x='name', y='val', vmax=10, kind=plot_type, color=plot_color)\n",
    "ax.set_axis_labels(x_title, y_title)"
   ]
  },
  {
   "cell_type": "code",
   "execution_count": 55,
   "metadata": {
    "code_folding": [],
    "collapsed": false
   },
   "outputs": [
    {
     "data": {
      "text/plain": [
       "<seaborn.axisgrid.FacetGrid at 0x11b4aeb38>"
      ]
     },
     "execution_count": 55,
     "metadata": {},
     "output_type": "execute_result"
    },
    {
     "data": {
      "image/png": "[encoded data removed]",
      "text/plain": [
       "<matplotlib.figure.Figure at 0x11b4ae7f0>"
      ]
     },
     "metadata": {},
     "output_type": "display_data"
    }
   ],
   "source": [
    "# fig5d: Paneth cell time course under Wnt condition\n",
    "# ct25:\n",
    "#    - control: A1, A2, B1, B2\n",
    "#    - WNT3A\n",
    "\n",
    "# run_type = 'paneth'\n",
    "# fname = fname_lookup['paneth_drop']\n",
    "run_type = 'merged'\n",
    "fname = fname_lookup['crypt']\n",
    "bottom_run_type = 'merged'\n",
    "bottom_fname = fname_lookup['cell']\n",
    "\n",
    "x_title = 'Time (hrs)'\n",
    "y_title = 'Paneth Number'\n",
    "plot_type = 'point'\n",
    "plot_palette = line_palette\n",
    "\n",
    "path_template = prefix.format(run_type=run_type, fname=fname)\n",
    "bottom_template = prefix.format(run_type=bottom_run_type, fname=bottom_fname)\n",
    "\n",
    "datatray = fig5_timeseries_datatray\n",
    "\n",
    "# df = df_diff_from_matrix(datatray, path_template, bottom_template)\n",
    "# df = df_ratio_from_matrix(datatray, path_template, bottom_template)\n",
    "df = df_from_matrix(datatray, path_template)\n",
    "\n",
    "ax = sns.factorplot(data=df, x='time', y='val', hue='name', kind=plot_type, palette=plot_palette)\n",
    "ax.set_axis_labels(x_title, y_title)"
   ]
  },
  {
   "cell_type": "code",
   "execution_count": 50,
   "metadata": {
    "collapsed": false
   },
   "outputs": [
    {
     "data": {
      "text/html": [
       "<div>\n",
       "<table border=\"1\" class=\"dataframe\">\n",
       "  <thead>\n",
       "    <tr style=\"text-align: right;\">\n",
       "      <th></th>\n",
       "      <th>col</th>\n",
       "      <th>exp</th>\n",
       "      <th>name</th>\n",
       "      <th>row</th>\n",
       "      <th>time</th>\n",
       "      <th>val</th>\n",
       "    </tr>\n",
       "  </thead>\n",
       "  <tbody>\n",
       "    <tr>\n",
       "      <th>0</th>\n",
       "      <td>3.0</td>\n",
       "      <td>ct25_0</td>\n",
       "      <td>Control</td>\n",
       "      <td>B</td>\n",
       "      <td>0</td>\n",
       "      <td>217.000000</td>\n",
       "    </tr>\n",
       "    <tr>\n",
       "      <th>1</th>\n",
       "      <td>4.0</td>\n",
       "      <td>ct25_0</td>\n",
       "      <td>Control</td>\n",
       "      <td>B</td>\n",
       "      <td>0</td>\n",
       "      <td>201.000000</td>\n",
       "    </tr>\n",
       "    <tr>\n",
       "      <th>2</th>\n",
       "      <td>3.0</td>\n",
       "      <td>ct25_0</td>\n",
       "      <td>Control</td>\n",
       "      <td>C</td>\n",
       "      <td>0</td>\n",
       "      <td>209.000000</td>\n",
       "    </tr>\n",
       "    <tr>\n",
       "      <th>3</th>\n",
       "      <td>4.0</td>\n",
       "      <td>ct25_0</td>\n",
       "      <td>Control</td>\n",
       "      <td>C</td>\n",
       "      <td>0</td>\n",
       "      <td>187.000000</td>\n",
       "    </tr>\n",
       "    <tr>\n",
       "      <th>4</th>\n",
       "      <td>1.0</td>\n",
       "      <td>ct25_24</td>\n",
       "      <td>Control</td>\n",
       "      <td>A</td>\n",
       "      <td>24</td>\n",
       "      <td>118.857143</td>\n",
       "    </tr>\n",
       "    <tr>\n",
       "      <th>5</th>\n",
       "      <td>2.0</td>\n",
       "      <td>ct25_24</td>\n",
       "      <td>Control</td>\n",
       "      <td>A</td>\n",
       "      <td>24</td>\n",
       "      <td>94.933333</td>\n",
       "    </tr>\n",
       "    <tr>\n",
       "      <th>6</th>\n",
       "      <td>1.0</td>\n",
       "      <td>ct25_24</td>\n",
       "      <td>Control</td>\n",
       "      <td>B</td>\n",
       "      <td>24</td>\n",
       "      <td>125.866667</td>\n",
       "    </tr>\n",
       "    <tr>\n",
       "      <th>7</th>\n",
       "      <td>2.0</td>\n",
       "      <td>ct25_24</td>\n",
       "      <td>Control</td>\n",
       "      <td>B</td>\n",
       "      <td>24</td>\n",
       "      <td>161.000000</td>\n",
       "    </tr>\n",
       "    <tr>\n",
       "      <th>8</th>\n",
       "      <td>1.0</td>\n",
       "      <td>ct25_48</td>\n",
       "      <td>Control</td>\n",
       "      <td>A</td>\n",
       "      <td>48</td>\n",
       "      <td>287.000000</td>\n",
       "    </tr>\n",
       "    <tr>\n",
       "      <th>9</th>\n",
       "      <td>2.0</td>\n",
       "      <td>ct25_48</td>\n",
       "      <td>Control</td>\n",
       "      <td>A</td>\n",
       "      <td>48</td>\n",
       "      <td>302.000000</td>\n",
       "    </tr>\n",
       "    <tr>\n",
       "      <th>10</th>\n",
       "      <td>1.0</td>\n",
       "      <td>ct25_48</td>\n",
       "      <td>Control</td>\n",
       "      <td>B</td>\n",
       "      <td>48</td>\n",
       "      <td>184.533333</td>\n",
       "    </tr>\n",
       "    <tr>\n",
       "      <th>11</th>\n",
       "      <td>2.0</td>\n",
       "      <td>ct25_48</td>\n",
       "      <td>Control</td>\n",
       "      <td>B</td>\n",
       "      <td>48</td>\n",
       "      <td>190.000000</td>\n",
       "    </tr>\n",
       "    <tr>\n",
       "      <th>12</th>\n",
       "      <td>1.0</td>\n",
       "      <td>ct25_72</td>\n",
       "      <td>Control</td>\n",
       "      <td>A</td>\n",
       "      <td>72</td>\n",
       "      <td>175.000000</td>\n",
       "    </tr>\n",
       "    <tr>\n",
       "      <th>13</th>\n",
       "      <td>2.0</td>\n",
       "      <td>ct25_72</td>\n",
       "      <td>Control</td>\n",
       "      <td>A</td>\n",
       "      <td>72</td>\n",
       "      <td>139.000000</td>\n",
       "    </tr>\n",
       "    <tr>\n",
       "      <th>14</th>\n",
       "      <td>1.0</td>\n",
       "      <td>ct25_72</td>\n",
       "      <td>Control</td>\n",
       "      <td>B</td>\n",
       "      <td>72</td>\n",
       "      <td>127.000000</td>\n",
       "    </tr>\n",
       "    <tr>\n",
       "      <th>15</th>\n",
       "      <td>2.0</td>\n",
       "      <td>ct25_72</td>\n",
       "      <td>Control</td>\n",
       "      <td>B</td>\n",
       "      <td>72</td>\n",
       "      <td>145.000000</td>\n",
       "    </tr>\n",
       "    <tr>\n",
       "      <th>16</th>\n",
       "      <td>3.0</td>\n",
       "      <td>ct25_0</td>\n",
       "      <td>WNT3a</td>\n",
       "      <td>D</td>\n",
       "      <td>0</td>\n",
       "      <td>173.000000</td>\n",
       "    </tr>\n",
       "    <tr>\n",
       "      <th>17</th>\n",
       "      <td>4.0</td>\n",
       "      <td>ct25_0</td>\n",
       "      <td>WNT3a</td>\n",
       "      <td>D</td>\n",
       "      <td>0</td>\n",
       "      <td>189.866667</td>\n",
       "    </tr>\n",
       "    <tr>\n",
       "      <th>18</th>\n",
       "      <td>3.0</td>\n",
       "      <td>ct25_0</td>\n",
       "      <td>WNT3a</td>\n",
       "      <td>E</td>\n",
       "      <td>0</td>\n",
       "      <td>178.133333</td>\n",
       "    </tr>\n",
       "    <tr>\n",
       "      <th>19</th>\n",
       "      <td>4.0</td>\n",
       "      <td>ct25_0</td>\n",
       "      <td>WNT3a</td>\n",
       "      <td>E</td>\n",
       "      <td>0</td>\n",
       "      <td>188.000000</td>\n",
       "    </tr>\n",
       "    <tr>\n",
       "      <th>20</th>\n",
       "      <td>5.0</td>\n",
       "      <td>ct25_24</td>\n",
       "      <td>WNT3a</td>\n",
       "      <td>A</td>\n",
       "      <td>24</td>\n",
       "      <td>115.428571</td>\n",
       "    </tr>\n",
       "    <tr>\n",
       "      <th>21</th>\n",
       "      <td>5.0</td>\n",
       "      <td>ct25_24</td>\n",
       "      <td>WNT3a</td>\n",
       "      <td>B</td>\n",
       "      <td>24</td>\n",
       "      <td>160.000000</td>\n",
       "    </tr>\n",
       "    <tr>\n",
       "      <th>22</th>\n",
       "      <td>5.0</td>\n",
       "      <td>ct25_48</td>\n",
       "      <td>WNT3a</td>\n",
       "      <td>A</td>\n",
       "      <td>48</td>\n",
       "      <td>211.000000</td>\n",
       "    </tr>\n",
       "    <tr>\n",
       "      <th>23</th>\n",
       "      <td>5.0</td>\n",
       "      <td>ct25_48</td>\n",
       "      <td>WNT3a</td>\n",
       "      <td>B</td>\n",
       "      <td>48</td>\n",
       "      <td>112.000000</td>\n",
       "    </tr>\n",
       "    <tr>\n",
       "      <th>24</th>\n",
       "      <td>5.0</td>\n",
       "      <td>ct25_72</td>\n",
       "      <td>WNT3a</td>\n",
       "      <td>A</td>\n",
       "      <td>72</td>\n",
       "      <td>91.636364</td>\n",
       "    </tr>\n",
       "    <tr>\n",
       "      <th>25</th>\n",
       "      <td>5.0</td>\n",
       "      <td>ct25_72</td>\n",
       "      <td>WNT3a</td>\n",
       "      <td>B</td>\n",
       "      <td>72</td>\n",
       "      <td>76.800000</td>\n",
       "    </tr>\n",
       "  </tbody>\n",
       "</table>\n",
       "</div>"
      ],
      "text/plain": [
       "    col      exp     name row time         val\n",
       "0   3.0   ct25_0  Control   B    0  217.000000\n",
       "1   4.0   ct25_0  Control   B    0  201.000000\n",
       "2   3.0   ct25_0  Control   C    0  209.000000\n",
       "3   4.0   ct25_0  Control   C    0  187.000000\n",
       "4   1.0  ct25_24  Control   A   24  118.857143\n",
       "5   2.0  ct25_24  Control   A   24   94.933333\n",
       "6   1.0  ct25_24  Control   B   24  125.866667\n",
       "7   2.0  ct25_24  Control   B   24  161.000000\n",
       "8   1.0  ct25_48  Control   A   48  287.000000\n",
       "9   2.0  ct25_48  Control   A   48  302.000000\n",
       "10  1.0  ct25_48  Control   B   48  184.533333\n",
       "11  2.0  ct25_48  Control   B   48  190.000000\n",
       "12  1.0  ct25_72  Control   A   72  175.000000\n",
       "13  2.0  ct25_72  Control   A   72  139.000000\n",
       "14  1.0  ct25_72  Control   B   72  127.000000\n",
       "15  2.0  ct25_72  Control   B   72  145.000000\n",
       "16  3.0   ct25_0    WNT3a   D    0  173.000000\n",
       "17  4.0   ct25_0    WNT3a   D    0  189.866667\n",
       "18  3.0   ct25_0    WNT3a   E    0  178.133333\n",
       "19  4.0   ct25_0    WNT3a   E    0  188.000000\n",
       "20  5.0  ct25_24    WNT3a   A   24  115.428571\n",
       "21  5.0  ct25_24    WNT3a   B   24  160.000000\n",
       "22  5.0  ct25_48    WNT3a   A   48  211.000000\n",
       "23  5.0  ct25_48    WNT3a   B   48  112.000000\n",
       "24  5.0  ct25_72    WNT3a   A   72   91.636364\n",
       "25  5.0  ct25_72    WNT3a   B   72   76.800000"
      ]
     },
     "execution_count": 50,
     "metadata": {},
     "output_type": "execute_result"
    }
   ],
   "source": [
    "df"
   ]
  },
  {
   "cell_type": "code",
   "execution_count": 14,
   "metadata": {
    "code_folding": [],
    "collapsed": false
   },
   "outputs": [
    {
     "data": {
      "text/plain": [
       "<seaborn.axisgrid.FacetGrid at 0x1164bc748>"
      ]
     },
     "execution_count": 14,
     "metadata": {},
     "output_type": "execute_result"
    },
    {
     "data": {
      "image/png": "[encoded data removed]",
      "text/plain": [
       "<matplotlib.figure.Figure at 0x1164bc4a8>"
      ]
     },
     "metadata": {},
     "output_type": "display_data"
    }
   ],
   "source": [
    "# fig5e: Paneth cell / Crypt time course under Wnt condition\n",
    "# ct25:\n",
    "#    - control: A1, A2, B1, B2\n",
    "#    - WNT3A\n",
    "\n",
    "run_type = 'paneth'\n",
    "fname = fname_lookup['paneth_drop']\n",
    "bottom_run_type = 'merged'\n",
    "bottom_fname = fname_lookup['cell']\n",
    "\n",
    "x_title = 'Time (hrs)'\n",
    "y_title = 'Paneth Cell Per Crypt'\n",
    "plot_type = 'point'\n",
    "plot_palette = line_palette\n",
    "\n",
    "path_template = prefix.format(run_type=run_type, fname=fname)\n",
    "bottom_template = prefix.format(run_type=bottom_run_type, fname=bottom_fname)\n",
    "\n",
    "datatray = fig5_timeseries_datatray\n",
    "\n",
    "df = df_ratio_from_matrix(datatray, path_template, bottom_template)\n",
    "\n",
    "ax = sns.factorplot(data=df, x='time', y='val', hue='name', kind=plot_type, palette=plot_palette)\n",
    "ax.set_axis_labels(x_title, y_title)"
   ]
  },
  {
   "cell_type": "code",
   "execution_count": 91,
   "metadata": {
    "code_folding": [],
    "collapsed": false
   },
   "outputs": [
    {
     "data": {
      "text/plain": [
       "<seaborn.axisgrid.FacetGrid at 0x11fc07b70>"
      ]
     },
     "execution_count": 91,
     "metadata": {},
     "output_type": "execute_result"
    },
    {
     "data": {
      "image/png": "[encoded data removed]",
      "text/plain": [
       "<matplotlib.figure.Figure at 0x11fe3bb38>"
      ]
     },
     "metadata": {},
     "output_type": "display_data"
    }
   ],
   "source": [
    "# fig5new: paneth # 72h\n",
    "# ct25\n",
    "#    - control: A1, A2, B1, B2\n",
    "#    - WNT3A: A5, B5\n",
    "#    - IWP-2: C1, C2, D1, D2\n",
    "#    - BMP4: E1, E2, F1, F2\n",
    "#    - LDN: G1, G2, H1, H2\n",
    "#    - IWP-2 + WNT: C5, D5\n",
    "#    - LDN + WNT: G5, H5\n",
    "\n",
    "run_type = 'paneth'\n",
    "fname = fname_lookup['paneth_drop']\n",
    "bottom_run_type = 'merged'\n",
    "bottom_fname = fname_lookup['crypt']\n",
    "\n",
    "x_title = '72h'\n",
    "y_title = 'Paneth Number'\n",
    "plot_type = 'bar'\n",
    "plot_palette = 'black'\n",
    "\n",
    "path_template = prefix.format(run_type=run_type, fname=fname)\n",
    "bottom_template = prefix.format(run_type=bottom_run_type, fname=bottom_fname)\n",
    "\n",
    "datatray = fig4_bar_72h_datatray\n",
    "\n",
    "df = df_from_matrix(datatray, path_template)\n",
    "\n",
    "ax = sns.factorplot(data=df, x='name', y='val', kind=plot_type, size=6, color=plot_palette)\n",
    "ax.set_axis_labels(x_title, y_title)"
   ]
  },
  {
   "cell_type": "code",
   "execution_count": 93,
   "metadata": {
    "code_folding": [
     0
    ],
    "collapsed": false
   },
   "outputs": [
    {
     "data": {
      "text/plain": [
       "<seaborn.axisgrid.FacetGrid at 0x120032e10>"
      ]
     },
     "execution_count": 93,
     "metadata": {},
     "output_type": "execute_result"
    },
    {
     "data": {
      "image/png": "[encoded data removed]",
      "text/plain": [
       "<matplotlib.figure.Figure at 0x11d3a54e0>"
      ]
     },
     "metadata": {},
     "output_type": "display_data"
    }
   ],
   "source": [
    "# fig5new: paneth # 48h\n",
    "# ct25\n",
    "#    - control: A1, A2, B1, B2\n",
    "#    - WNT3A: A5, B5\n",
    "#    - IWP-2: C1, C2, D1, D2\n",
    "#    - BMP4: E1, E2, F1, F2\n",
    "#    - LDN: G1, G2, H1, H2\n",
    "#    - IWP-2 + WNT: C5, D5\n",
    "#    - LDN + WNT: G5, H5\n",
    "\n",
    "run_type = 'paneth'\n",
    "fname = fname_lookup['paneth_drop']\n",
    "bottom_run_type = 'merged'\n",
    "bottom_fname = fname_lookup['crypt']\n",
    "\n",
    "x_title = '48h'\n",
    "y_title = 'Paneth Number'\n",
    "plot_type = 'bar'\n",
    "plot_palette = 'black'\n",
    "\n",
    "path_template = prefix.format(run_type=run_type, fname=fname)\n",
    "bottom_template = prefix.format(run_type=bottom_run_type, fname=bottom_fname)\n",
    "\n",
    "datatray = fig4_bar_48h_datatray\n",
    "\n",
    "df = df_from_matrix(datatray, path_template)\n",
    "\n",
    "ax = sns.factorplot(data=df, x='name', y='val', kind=plot_type, size=6, color=plot_palette)\n",
    "ax.set_axis_labels(x_title, y_title)"
   ]
  },
  {
   "cell_type": "code",
   "execution_count": 33,
   "metadata": {
    "collapsed": false
   },
   "outputs": [],
   "source": [
    "exp_name = 'paper_figs_160826'\n",
    "im_type = '5b_paneth_percent_mono_heatmap'\n",
    "fig5b.savefig(outpng_path.format(exp=exp_name, imtype=im_type), facecolor=bcolor, bbox_inches='tight')\n",
    "fig5b.savefig(outsvg_path.format(exp=exp_name, imtype=im_type), facecolor=bcolor, bbox_inches='tight')\n",
    "# ax.savefig(outpng_path.format(exp=exp_name, imtype=im_type), facecolor=bcolor, bbox_inches='tight')\n",
    "# ax.savefig(outsvg_path.format(exp=exp_name, imtype=im_type), facecolor=bcolor, bbox_inches='tight')\n",
    "# df.to_csv(outcsv_path.format(exp=exp_name, fname=im_type))"
   ]
  },
  {
   "cell_type": "code",
   "execution_count": 45,
   "metadata": {
    "collapsed": true
   },
   "outputs": [],
   "source": [
    "run_type = 'paneth'\n",
    "fname = fname_lookup['paneth_drop']\n",
    "# bottom_run_type = 'merged'\n",
    "# bottom_fname = fname_lookup['crypt']\n",
    "\n",
    "path_template = prefix.format(run_type=run_type, fname=fname)\n",
    "# bottom_template = prefix.format(run_type=bottom_run_type, fname=bottom_fname)\n",
    "\n",
    "datatray = fig5_wholetimeseries_datatray\n",
    "df = df_from_matrix(datatray, path_template)"
   ]
  }
 ],
 "metadata": {
  "kernelspec": {
   "display_name": "Python 3",
   "language": "python",
   "name": "python3"
  },
  "language_info": {
   "codemirror_mode": {
    "name": "ipython",
    "version": 3
   },
   "file_extension": ".py",
   "mimetype": "text/x-python",
   "name": "python",
   "nbconvert_exporter": "python",
   "pygments_lexer": "ipython3",
   "version": "3.5.1"
  }
 },
 "nbformat": 4,
 "nbformat_minor": 0
}
