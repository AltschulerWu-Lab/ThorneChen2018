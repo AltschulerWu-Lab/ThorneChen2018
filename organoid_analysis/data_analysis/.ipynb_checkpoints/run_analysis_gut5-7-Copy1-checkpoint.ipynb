{
 "cells": [
  {
   "cell_type": "code",
   "execution_count": 3,
   "metadata": {
    "collapsed": false
   },
   "outputs": [],
   "source": [
    "import os\n",
    "\n",
    "program_path = '/awlab/projects/2015_08_gut_organoid_analysis/organoid_analysis/organoid_analysis/data_analysis'\n",
    "os.chdir(program_path)"
   ]
  },
  {
   "cell_type": "code",
   "execution_count": 2,
   "metadata": {
    "collapsed": false,
    "scrolled": true
   },
   "outputs": [
    {
     "name": "stdout",
     "output_type": "stream",
     "text": [
      "bash /awlab/projects/2015_08_gut_organoid_analysis/organoid_analysis/scripts/20170301-132348_qsub_commands.txt\n"
     ]
    }
   ],
   "source": [
    "%run 1_setup_preseg_jobs"
   ]
  },
  {
   "cell_type": "code",
   "execution_count": 1,
   "metadata": {
    "collapsed": false
   },
   "outputs": [
    {
     "name": "stdout",
     "output_type": "stream",
     "text": [
      "bash /awlab/projects/2015_08_gut_organoid_analysis/organoid_analysis/scripts/20170301-221420_qsub_commands.txt\n"
     ]
    }
   ],
   "source": [
    "%run 1_setup_preseg_jobs"
   ]
  },
  {
   "cell_type": "code",
   "execution_count": 2,
   "metadata": {
    "collapsed": false
   },
   "outputs": [
    {
     "name": "stdout",
     "output_type": "stream",
     "text": [
      "bash /awlab/projects/2015_08_gut_organoid_analysis/organoid_analysis/scripts/20170305-134849_qsub_commands.txt\n"
     ]
    }
   ],
   "source": [
    "%run 2_setup_mergedseg_jobs"
   ]
  },
  {
   "cell_type": "code",
   "execution_count": 2,
   "metadata": {
    "collapsed": false
   },
   "outputs": [
    {
     "name": "stdout",
     "output_type": "stream",
     "text": [
      "bash /awlab/projects/2015_08_gut_organoid_analysis/organoid_analysis/scripts/20170308-151745_qsub_commands.txt\n"
     ]
    }
   ],
   "source": [
    "%run 2_setup_mergedseg_jobs"
   ]
  },
  {
   "cell_type": "code",
   "execution_count": 5,
   "metadata": {
    "collapsed": false
   },
   "outputs": [
    {
     "name": "stdout",
     "output_type": "stream",
     "text": [
      "ct_14d_t00: All jobs complete!\n",
      "ct_14d_t03: All jobs complete!\n",
      "ct_14d_t07: All jobs complete!\n",
      "ct_14d_t11: All jobs complete!\n",
      "ct_14d_t14: All jobs complete!\n",
      "ct_pc_control_t1: All jobs complete!\n",
      "ct_pc_wnt_t1: All jobs complete!\n",
      "ct_pc_t3: All jobs complete!\n",
      "Combined all job output\n",
      "Extracted CSV files\n"
     ]
    },
    {
     "name": "stderr",
     "output_type": "stream",
     "text": [
      "/Users/ichen/Documents/bin/anaconda/lib/python3.5/site-packages/skimage/morphology/misc.py:122: UserWarning: Only one label was provided to `remove_small_objects`. Did you mean to use a boolean array?\n",
      "  warn(\"Only one label was provided to `remove_small_objects`. \"\n"
     ]
    },
    {
     "name": "stdout",
     "output_type": "stream",
     "text": [
      "Generated crypt objects and labels\n"
     ]
    }
   ],
   "source": [
    "%run 3_gen_crypt_masks"
   ]
  },
  {
   "cell_type": "code",
   "execution_count": 2,
   "metadata": {
    "collapsed": false
   },
   "outputs": [
    {
     "name": "stdout",
     "output_type": "stream",
     "text": [
      "ct_pc_control_t1: All jobs complete!\n",
      "ct_pc_wnt_t1: All jobs complete!\n",
      "ct_pc_t3: All jobs complete!\n",
      "Combined all job output\n",
      "Extracted CSV files\n"
     ]
    },
    {
     "name": "stderr",
     "output_type": "stream",
     "text": [
      "/Users/ichen/Documents/bin/anaconda/lib/python3.5/site-packages/skimage/morphology/misc.py:122: UserWarning: Only one label was provided to `remove_small_objects`. Did you mean to use a boolean array?\n",
      "  warn(\"Only one label was provided to `remove_small_objects`. \"\n"
     ]
    },
    {
     "name": "stdout",
     "output_type": "stream",
     "text": [
      "Generated crypt objects and labels\n"
     ]
    }
   ],
   "source": [
    "%run 3_gen_crypt_masks"
   ]
  },
  {
   "cell_type": "code",
   "execution_count": 4,
   "metadata": {
    "collapsed": false
   },
   "outputs": [
    {
     "name": "stderr",
     "output_type": "stream",
     "text": [
      "/Users/ichen/Documents/bin/anaconda/lib/python3.5/site-packages/skimage/morphology/misc.py:122: UserWarning: Only one label was provided to `remove_small_objects`. Did you mean to use a boolean array?\n",
      "  warn(\"Only one label was provided to `remove_small_objects`. \"\n"
     ]
    },
    {
     "name": "stdout",
     "output_type": "stream",
     "text": [
      "Generated crypt objects and labels\n"
     ]
    }
   ],
   "source": [
    "%run 3_gen_crypt_masks"
   ]
  },
  {
   "cell_type": "code",
   "execution_count": null,
   "metadata": {
    "collapsed": false
   },
   "outputs": [
    {
     "name": "stderr",
     "output_type": "stream",
     "text": [
      "/Users/ichen/Documents/bin/anaconda/lib/python3.5/site-packages/numpy/core/_methods.py:59: RuntimeWarning: Mean of empty slice.\n",
      "  warnings.warn(\"Mean of empty slice.\", RuntimeWarning)\n"
     ]
    }
   ],
   "source": [
    "%run 3_gen_crypt_masks"
   ]
  }
 ],
 "metadata": {
  "anaconda-cloud": {},
  "kernelspec": {
   "display_name": "Python 3",
   "language": "python",
   "name": "python3"
  },
  "language_info": {
   "codemirror_mode": {
    "name": "ipython",
    "version": 3
   },
   "file_extension": ".py",
   "mimetype": "text/x-python",
   "name": "python",
   "nbconvert_exporter": "python",
   "pygments_lexer": "ipython3",
   "version": "3.5.1"
  }
 },
 "nbformat": 4,
 "nbformat_minor": 0
}
