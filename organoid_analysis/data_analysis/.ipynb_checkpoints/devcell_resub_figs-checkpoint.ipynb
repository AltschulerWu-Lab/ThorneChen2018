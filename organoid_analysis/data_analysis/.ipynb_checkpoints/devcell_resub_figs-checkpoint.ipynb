{
 "cells": [
  {
   "cell_type": "code",
   "execution_count": 2,
   "metadata": {},
   "outputs": [],
   "source": [
    "%matplotlib inline\n",
    "\n",
    "import matplotlib as mpl\n",
    "import matplotlib.pyplot as plt\n",
    "import numpy as np\n",
    "import os\n",
    "import pandas as pd\n",
    "import random\n",
    "from scipy import stats\n",
    "import seaborn as sns"
   ]
  },
  {
   "cell_type": "code",
   "execution_count": 3,
   "metadata": {},
   "outputs": [],
   "source": [
    "path_prefix = '/awlab/projects/2015_08_gut_organoid_analysis/data/processed_data/ct25_72/merged/combined/well_measure/'\n",
    "csv_file = 'edu_dispersion_well_measure.csv'\n",
    "\n",
    "csv_path = os.path.join(path_prefix, csv_file)\n",
    "\n",
    "df = pd.read_csv(csv_path, index_col=False)"
   ]
  },
  {
   "cell_type": "code",
   "execution_count": 4,
   "metadata": {},
   "outputs": [],
   "source": [
    "save_plot=True\n",
    "\n",
    "if save_plot:\n",
    "    mpl.rcParams['text.color'] = 'k'\n",
    "    mpl.rcParams['axes.labelcolor'] = 'k'\n",
    "    mpl.rcParams['xtick.color'] = 'k'\n",
    "    mpl.rcParams['ytick.color'] = 'k'\n",
    "else:\n",
    "    mpl.rcParams['text.color'] = 'w'\n",
    "    mpl.rcParams['axes.labelcolor'] = 'w'\n",
    "    mpl.rcParams['xtick.color'] = 'w'\n",
    "    mpl.rcParams['ytick.color'] = 'w'"
   ]
  },
  {
   "cell_type": "code",
   "execution_count": 13,
   "metadata": {},
   "outputs": [
    {
     "ename": "ValueError",
     "evalue": "The truth value of a Series is ambiguous. Use a.empty, a.bool(), a.item(), a.any() or a.all().",
     "output_type": "error",
     "traceback": [
      "\u001b[0;31m---------------------------------------------------------------------------\u001b[0m",
      "\u001b[0;31mValueError\u001b[0m                                Traceback (most recent call last)",
      "\u001b[0;32m<ipython-input-13-842f0ff6c78d>\u001b[0m in \u001b[0;36m<module>\u001b[0;34m()\u001b[0m\n\u001b[1;32m      4\u001b[0m \u001b[0mf\u001b[0m\u001b[0;34m,\u001b[0m \u001b[0maxes\u001b[0m \u001b[0;34m=\u001b[0m \u001b[0mplt\u001b[0m\u001b[0;34m.\u001b[0m\u001b[0msubplots\u001b[0m\u001b[0;34m(\u001b[0m\u001b[0;36m1\u001b[0m\u001b[0;34m,\u001b[0m\u001b[0;36m1\u001b[0m\u001b[0;34m,\u001b[0m \u001b[0mfigsize\u001b[0m\u001b[0;34m=\u001b[0m\u001b[0;34m(\u001b[0m\u001b[0;36m10\u001b[0m\u001b[0;34m,\u001b[0m\u001b[0;36m5\u001b[0m\u001b[0;34m)\u001b[0m\u001b[0;34m)\u001b[0m\u001b[0;34m\u001b[0m\u001b[0m\n\u001b[1;32m      5\u001b[0m \u001b[0;34m\u001b[0m\u001b[0m\n\u001b[0;32m----> 6\u001b[0;31m \u001b[0msns\u001b[0m\u001b[0;34m.\u001b[0m\u001b[0mtsplot\u001b[0m\u001b[0;34m(\u001b[0m\u001b[0mtime\u001b[0m\u001b[0;34m=\u001b[0m\u001b[0;34m'd_nn'\u001b[0m\u001b[0;34m,\u001b[0m \u001b[0munit\u001b[0m\u001b[0;34m=\u001b[0m\u001b[0;34m'well'\u001b[0m\u001b[0;34m,\u001b[0m \u001b[0mdata\u001b[0m\u001b[0;34m=\u001b[0m\u001b[0mdf\u001b[0m\u001b[0;34m.\u001b[0m\u001b[0mloc\u001b[0m\u001b[0;34m[\u001b[0m\u001b[0;34m(\u001b[0m\u001b[0mdf\u001b[0m\u001b[0;34m[\u001b[0m\u001b[0;34m'well'\u001b[0m\u001b[0;34m]\u001b[0m \u001b[0;32min\u001b[0m \u001b[0mwells\u001b[0m\u001b[0;34m)\u001b[0m\u001b[0;34m]\u001b[0m\u001b[0;34m)\u001b[0m\u001b[0;34m\u001b[0m\u001b[0m\n\u001b[0m\u001b[1;32m      7\u001b[0m \u001b[0;34m\u001b[0m\u001b[0m\n\u001b[1;32m      8\u001b[0m \u001b[0;31m# for curr_well in wells:\u001b[0m\u001b[0;34m\u001b[0m\u001b[0;34m\u001b[0m\u001b[0m\n",
      "\u001b[0;32m~/Documents/bin/anaconda/lib/python3.5/site-packages/pandas/core/generic.py\u001b[0m in \u001b[0;36m__nonzero__\u001b[0;34m(self)\u001b[0m\n\u001b[1;32m    885\u001b[0m         raise ValueError(\"The truth value of a {0} is ambiguous. \"\n\u001b[1;32m    886\u001b[0m                          \u001b[0;34m\"Use a.empty, a.bool(), a.item(), a.any() or a.all().\"\u001b[0m\u001b[0;34m\u001b[0m\u001b[0m\n\u001b[0;32m--> 887\u001b[0;31m                          .format(self.__class__.__name__))\n\u001b[0m\u001b[1;32m    888\u001b[0m \u001b[0;34m\u001b[0m\u001b[0m\n\u001b[1;32m    889\u001b[0m     \u001b[0m__bool__\u001b[0m \u001b[0;34m=\u001b[0m \u001b[0m__nonzero__\u001b[0m\u001b[0;34m\u001b[0m\u001b[0m\n",
      "\u001b[0;31mValueError\u001b[0m: The truth value of a Series is ambiguous. Use a.empty, a.bool(), a.item(), a.any() or a.all()."
     ]
    },
    {
     "data": {
      "image/png": "[encoded data removed]",
      "text/plain": [
       "<matplotlib.figure.Figure at 0x11f563c18>"
      ]
     },
     "metadata": {},
     "output_type": "display_data"
    }
   ],
   "source": [
    "# distribution of distances in crypts within the same well is relatively similar\n",
    "wells = ['A01', 'A02', 'B01', 'B02']\n",
    "\n",
    "f, axes = plt.subplots(1,1, figsize=(10,5))\n",
    "\n",
    "sns.tsplot(time='d_nn', unit='well', data=df.loc[(df['well'].isin(wells))])\n",
    "\n",
    "# for curr_well in wells:\n",
    "#     crypt_num_lst = set(df.loc[df['well'] == curr_well]['crypt_num'])\n",
    "\n",
    "#     for i in crypt_num_lst:\n",
    "#          sns.kdeplot(df.loc[(df['crypt_num'] == i) & (df['well'] == curr_well)]['d_nn']*0.65, color='black', lw=0.5, ax=axes)\n",
    "\n",
    "# wells = ['A02', 'B01', 'B02']\n",
    "\n",
    "# f, axes = plt.subplots(1,1, figsize=(10,5))\n",
    "# for curr_well in wells:\n",
    "#     crypt_num_lst = set(df.loc[df['well'] == curr_well]['crypt_num'])\n",
    "\n",
    "#     for i in crypt_num_lst:\n",
    "#         sns.kdeplot(df.loc[(df['crypt_num'] == i) & (df['well'] == curr_well)]['d_nn'], color='green', lw=0.5, ax=axes)\n"
   ]
  },
  {
   "cell_type": "code",
   "execution_count": 7,
   "metadata": {},
   "outputs": [
    {
     "data": {
      "text/plain": [
       "<matplotlib.axes._subplots.AxesSubplot at 0x11d1a8438>"
      ]
     },
     "execution_count": 7,
     "metadata": {},
     "output_type": "execute_result"
    },
    {
     "data": {
      "image/png": "[encoded data removed]",
      "text/plain": [
       "<matplotlib.figure.Figure at 0x10cf29240>"
      ]
     },
     "metadata": {},
     "output_type": "display_data"
    }
   ],
   "source": [
    "# distribution of distances in crypts within the same well is relatively similar\n",
    "wells = ['C05','D05']\n",
    "\n",
    "f, axes = plt.subplots(1,1, figsize=(5,10))\n",
    "\n",
    "treat = []\n",
    "\n",
    "for curr_well in wells:\n",
    "    crypt_num_lst = set(df.loc[df['well'] == curr_well]['crypt_num'])\n",
    "    treat += [np.nanmean(df.loc[(df['crypt_num'] == i) & (df['well'] == curr_well)]['d_nn']) for i in crypt_num_lst]\n",
    "\n",
    "wells = ['A01', 'B01', 'B02']\n",
    "\n",
    "control = []\n",
    "\n",
    "for curr_well in wells:\n",
    "    crypt_num_lst = set(df.loc[df['well'] == curr_well]['crypt_num'])\n",
    "    control += [np.nanmean(df.loc[(df['crypt_num'] == i) & (df['well'] == curr_well)]['d_nn']) for i in crypt_num_lst]\n",
    "    \n",
    "sns.boxplot(data=[control, treat], color='grey')"
   ]
  },
  {
   "cell_type": "code",
   "execution_count": 8,
   "metadata": {},
   "outputs": [
    {
     "data": {
      "text/plain": [
       "1.5334501373577366e-05"
      ]
     },
     "execution_count": 8,
     "metadata": {},
     "output_type": "execute_result"
    }
   ],
   "source": [
    "tstat = stats.ttest_ind(control, treat)\n",
    "tstat.pvalue"
   ]
  },
  {
   "cell_type": "code",
   "execution_count": 31,
   "metadata": {
    "scrolled": false
   },
   "outputs": [
    {
     "data": {
      "text/plain": [
       "<matplotlib.axes._subplots.AxesSubplot at 0x11f652780>"
      ]
     },
     "execution_count": 31,
     "metadata": {},
     "output_type": "execute_result"
    },
    {
     "data": {
      "image/png": "[encoded data removed]",
      "text/plain": [
       "<matplotlib.figure.Figure at 0x11f63d278>"
      ]
     },
     "metadata": {},
     "output_type": "display_data"
    }
   ],
   "source": [
    "# distribution of distances in crypts within the same well is relatively similar\n",
    "wells = ['C05','D05']\n",
    "\n",
    "treat = []\n",
    "\n",
    "for curr_well in wells:\n",
    "    crypt_num_lst = set(df.loc[df['well'] == curr_well]['crypt_num'])\n",
    "    treat += [np.nanmean(df.loc[(df['crypt_num'] == i) & (df['well'] == curr_well)]['d_nn']) for i in crypt_num_lst]\n",
    "\n",
    "wells = ['A01', 'B01', 'B02']\n",
    "\n",
    "control = []\n",
    "\n",
    "for curr_well in wells:\n",
    "    crypt_num_lst = set(df.loc[df['well'] == curr_well]['crypt_num'])\n",
    "    control += [np.nanmean(df.loc[(df['crypt_num'] == i) & (df['well'] == curr_well)]['d_nn']) for i in crypt_num_lst]\n",
    "\n",
    "# distance conversion\n",
    "treat = np.array(treat) * 0.65\n",
    "control = np.array(control) * 0.65\n",
    "\n",
    "fig, ax = plt.subplots(1,1)\n",
    "\n",
    "sns.kdeplot(data=control, shade=True, color='grey', ax=ax)\n",
    "sns.kdeplot(data=treat, shade=True, color='blue', ax=ax)"
   ]
  },
  {
   "cell_type": "code",
   "execution_count": 34,
   "metadata": {},
   "outputs": [],
   "source": [
    "fig.savefig('plot.svg', facecolor='white', bbox_inches='tight')"
   ]
  },
  {
   "cell_type": "code",
   "execution_count": 19,
   "metadata": {},
   "outputs": [],
   "source": [
    "# rspondin drc \n",
    "prefix1 = '/awlab/projects/2015_08_gut_organoid_analysis/data/processed_data/ct_rspo_drc1/merged/combined/well_measure'\n",
    "prefix2 = '/awlab/projects/2015_08_gut_organoid_analysis/data/processed_data/ct_rspo_drc2/merged/combined/well_measure'\n",
    "\n",
    "cellnum_fname = 'num_cells_well_measure.csv'\n",
    "edunum_fname = 'num_edu_well_measure.csv'\n",
    "\n",
    "cellnum1_df = pd.read_csv(os.path.join(prefix1, cellnum_fname), sep=',',header=None)\n",
    "cellnum2_df = pd.read_csv(os.path.join(prefix2, cellnum_fname), sep=',',header=None)\n",
    "edunum1_df = pd.read_csv(os.path.join(prefix1, edunum_fname), sep=',',header=None)\n",
    "edunum2_df = pd.read_csv(os.path.join(prefix2, edunum_fname), sep=',',header=None)\n",
    "\n",
    "cellnum1 = cellnum1_df[2:4].values\n",
    "cellnum2 = cellnum2_df[2:4].values\n",
    "edunum1 = edunum1_df[2:4].values\n",
    "edunum2 = edunum2_df[2:4].values\n",
    "\n",
    "eduratio1 = edunum1 / cellnum1\n",
    "eduratio2 = edunum2 / cellnum2\n",
    "\n",
    "rspo_conc = [2000, 0, 1000, 750, 500, 250, 100, 50, 25, 10, 0, 0]\n",
    "                        "
   ]
  },
  {
   "cell_type": "code",
   "execution_count": 20,
   "metadata": {},
   "outputs": [],
   "source": [
    "cellnum_ar = [cellnum1[0,:], cellnum1[1,:], cellnum2[0,:], cellnum2[1,:]]\n",
    "\n",
    "cellnum_dic = []\n",
    "\n",
    "for ar in cellnum_ar:\n",
    "    cellnum_dic += [{'cellnum': x, 'rspo': rspo_conc[i]} for i, x in enumerate(ar)]\n",
    "    \n",
    "cellnum_plot_df = pd.DataFrame(cellnum_dic)"
   ]
  },
  {
   "cell_type": "code",
   "execution_count": 40,
   "metadata": {},
   "outputs": [
    {
     "name": "stdout",
     "output_type": "stream",
     "text": [
      "0.0934414668547\n",
      "0.0\n",
      "0.0972352146347\n",
      "0.108834446919\n",
      "0.0991478581299\n",
      "0.106310362356\n",
      "0.0622021263595\n",
      "0.0304683091969\n",
      "0.0108322324967\n",
      "0.00573888091822\n",
      "0.0\n",
      "0.00138312586445\n"
     ]
    },
    {
     "data": {
      "text/plain": [
       "[None, None, None, None, None, None, None, None, None, None, None, None]"
      ]
     },
     "execution_count": 40,
     "metadata": {},
     "output_type": "execute_result"
    }
   ],
   "source": [
    "[print(x) for x in eduratio2[0,:]]"
   ]
  }
 ],
 "metadata": {
  "kernelspec": {
   "display_name": "Python 3",
   "language": "python",
   "name": "python3"
  },
  "language_info": {
   "codemirror_mode": {
    "name": "ipython",
    "version": 3
   },
   "file_extension": ".py",
   "mimetype": "text/x-python",
   "name": "python",
   "nbconvert_exporter": "python",
   "pygments_lexer": "ipython3",
   "version": "3.5.4"
  }
 },
 "nbformat": 4,
 "nbformat_minor": 2
}
