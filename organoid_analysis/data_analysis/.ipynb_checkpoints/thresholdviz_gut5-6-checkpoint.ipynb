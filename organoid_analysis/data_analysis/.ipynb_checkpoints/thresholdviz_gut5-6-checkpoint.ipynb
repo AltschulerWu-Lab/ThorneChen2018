{
 "cells": [
  {
   "cell_type": "code",
   "execution_count": 1,
   "metadata": {
    "collapsed": false
   },
   "outputs": [],
   "source": [
    "# %matplotlib inline\n",
    "\n",
    "import os\n",
    "\n",
    "program_path = '/awlab/projects/2015_08_gut_organoid_analysis/organoid_analysis/organoid_analysis'\n",
    "os.chdir(program_path)\n",
    "\n",
    "import dataviewer as dv\n",
    "import matplotlib as mpl\n",
    "import matplotlib.colors as mcolors\n",
    "import matplotlib.pyplot as plt\n",
    "import random"
   ]
  },
  {
   "cell_type": "code",
   "execution_count": 2,
   "metadata": {
    "collapsed": false
   },
   "outputs": [],
   "source": [
    "# save_plot = False\n",
    "# if save_plot:\n",
    "#     mpl.rcParams['text.color'] = 'k'\n",
    "#     mpl.rcParams['axes.labelcolor'] = 'k'\n",
    "#     mpl.rcParams['xtick.color'] = 'k'\n",
    "#     mpl.rcParams['ytick.color'] = 'k'\n",
    "# else:\n",
    "#     mpl.rcParams['text.color'] = 'w'\n",
    "#     mpl.rcParams['axes.labelcolor'] = 'w'\n",
    "#     mpl.rcParams['xtick.color'] = 'w'\n",
    "#     mpl.rcParams['ytick.color'] = 'w'\n",
    "    \n",
    "# mpl.rcParams['figure.figsize'] = (20, 14)"
   ]
  },
  {
   "cell_type": "code",
   "execution_count": 3,
   "metadata": {
    "collapsed": false
   },
   "outputs": [],
   "source": [
    "# exp = 'ct_14d_t00'\n",
    "# row = random.choice(['B', 'C', 'D', 'E', 'F', 'G'])\n",
    "# col = random.choice([2,3])\n",
    "# fld = random.choice(list(range(16)))+1"
   ]
  },
  {
   "cell_type": "code",
   "execution_count": 4,
   "metadata": {
    "collapsed": true
   },
   "outputs": [],
   "source": [
    "# exp = 'ct_14d_t00'\n",
    "# row = random.choice(['B', 'C', 'D', 'E', 'F', 'G'])\n",
    "# col = random.choice([2,3])\n",
    "# fld = random.choice(list(range(16)))+1\n",
    "# edu_thresh = 0.003\n",
    "# dv.edu_all_thresh(exp, row, col, fld, edu_thresh)"
   ]
  },
  {
   "cell_type": "code",
   "execution_count": null,
   "metadata": {
    "collapsed": false
   },
   "outputs": [],
   "source": [
    "exp = 'ct_14d_t00'\n",
    "row = random.choice(['B', 'C', 'D', 'E', 'F', 'G'])\n",
    "col = random.choice([2,3])\n",
    "fld = random.choice(list(range(16)))+1\n",
    "cs_thresh = 0.003\n",
    "dv.cellstain_all_thresh(exp, row, col, fld, cs_thresh)"
   ]
  },
  {
   "cell_type": "code",
   "execution_count": 6,
   "metadata": {
    "code_folding": [],
    "collapsed": false
   },
   "outputs": [],
   "source": [
    "# # 'isodata', 'otsu', 'li', 'local', 'mean', 'minimum', 'niblack', 'sauvola', 'triangle', 'yen'\n",
    "# edu_thresh = 0.003\n",
    "# dv.edu_thresh(exp, row, col, fld, edu_thresh, thresh='li')"
   ]
  },
  {
   "cell_type": "code",
   "execution_count": 7,
   "metadata": {
    "collapsed": true
   },
   "outputs": [],
   "source": [
    "# cs_thresh = 0.003\n",
    "# dv.cellstain_thresh(exp, row, col, fld, cs_thresh)"
   ]
  }
 ],
 "metadata": {
  "kernelspec": {
   "display_name": "Python 3",
   "language": "python",
   "name": "python3"
  },
  "language_info": {
   "codemirror_mode": {
    "name": "ipython",
    "version": 3
   },
   "file_extension": ".py",
   "mimetype": "text/x-python",
   "name": "python",
   "nbconvert_exporter": "python",
   "pygments_lexer": "ipython3",
   "version": "3.5.1"
  }
 },
 "nbformat": 4,
 "nbformat_minor": 0
}
