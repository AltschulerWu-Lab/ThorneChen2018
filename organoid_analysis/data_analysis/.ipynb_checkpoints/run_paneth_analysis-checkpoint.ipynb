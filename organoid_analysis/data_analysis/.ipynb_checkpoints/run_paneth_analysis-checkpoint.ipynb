{
 "cells": [
  {
   "cell_type": "code",
   "execution_count": null,
   "metadata": {},
   "outputs": [],
   "source": [
    "import os\n",
    "\n",
    "program_path = '/awlab/projects/2015_08_gut_organoid_analysis/organoid_analysis/organoid_analysis'\n",
    "os.chdir(program_path)"
   ]
  },
  {
   "cell_type": "code",
   "execution_count": null,
   "metadata": {},
   "outputs": [],
   "source": [
    "# Setup jobs\n",
    "import cluster\n",
    "\n",
    "bash_commands_path = cluster.setup_jobs('paneth')\n",
    "print('bash {path:s}'.format(path=bash_commands_path))"
   ]
  },
  {
   "cell_type": "code",
   "execution_count": null,
   "metadata": {},
   "outputs": [],
   "source": [
    "# Combine job output\n",
    "import fileops\n",
    "\n",
    "fileops.combine_jobs('paneth')"
   ]
  },
  {
   "cell_type": "code",
   "execution_count": null,
   "metadata": {},
   "outputs": [],
   "source": [
    "# Measure crypt properties\n",
    "import cryptops\n",
    "\n",
    "cryptops.measure_exps('paneth', 'paneth', drop=True)"
   ]
  }
 ],
 "metadata": {
  "kernelspec": {
   "display_name": "Python 3",
   "language": "python",
   "name": "python3"
  },
  "language_info": {
   "codemirror_mode": {
    "name": "ipython",
    "version": 3
   },
   "file_extension": ".py",
   "mimetype": "text/x-python",
   "name": "python",
   "nbconvert_exporter": "python",
   "pygments_lexer": "ipython3",
   "version": "3.5.4"
  }
 },
 "nbformat": 4,
 "nbformat_minor": 1
}
